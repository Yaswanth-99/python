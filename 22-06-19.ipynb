{
 "cells": [
  {
   "cell_type": "markdown",
   "metadata": {},
   "source": [
    "# control statements"
   ]
  },
  {
   "cell_type": "markdown",
   "metadata": {},
   "source": [
    "# conditional statements\n"
   ]
  },
  {
   "cell_type": "markdown",
   "metadata": {},
   "source": [
    "# if condition"
   ]
  },
  {
   "cell_type": "code",
   "execution_count": 5,
   "metadata": {},
   "outputs": [
    {
     "name": "stdout",
     "output_type": "stream",
     "text": [
      "number is less than 50\n"
     ]
    }
   ],
   "source": [
    "x=45;\n",
    "if(x<50):\n",
    " print(\"number is less than 50\")"
   ]
  },
  {
   "cell_type": "code",
   "execution_count": 6,
   "metadata": {},
   "outputs": [],
   "source": [
    "x=99;\n",
    "if(x<99):\n",
    "    print(\"h4\")"
   ]
  },
  {
   "cell_type": "code",
   "execution_count": 7,
   "metadata": {},
   "outputs": [
    {
     "name": "stdout",
     "output_type": "stream",
     "text": [
      "good after noon\n"
     ]
    }
   ],
   "source": [
    "x=5;\n",
    "if(x>6):\n",
    "    print(\"good morning \")\n",
    "else:\n",
    "    print(\"good after noon\")"
   ]
  },
  {
   "cell_type": "code",
   "execution_count": 8,
   "metadata": {},
   "outputs": [
    {
     "name": "stdout",
     "output_type": "stream",
     "text": [
      "good morning \n"
     ]
    }
   ],
   "source": [
    "x=5;\n",
    "if(x<6):\n",
    "    print(\"good morning \")\n",
    "else:\n",
    "    print(\"good after noon\")"
   ]
  },
  {
   "cell_type": "markdown",
   "metadata": {},
   "source": [
    "# x and y are the inputs and we have to find the larger one between the two"
   ]
  },
  {
   "cell_type": "code",
   "execution_count": 12,
   "metadata": {},
   "outputs": [
    {
     "name": "stdout",
     "output_type": "stream",
     "text": [
      "y is larger\n"
     ]
    }
   ],
   "source": [
    "x=8  \n",
    "y=9\n",
    "if(x>y):\n",
    "    print(\"x is larger\")\n",
    "else:\n",
    "        print(\"y is larger\")"
   ]
  },
  {
   "cell_type": "code",
   "execution_count": 13,
   "metadata": {},
   "outputs": [
    {
     "name": "stdout",
     "output_type": "stream",
     "text": [
      "x is larger\n"
     ]
    }
   ],
   "source": [
    "x=15 \n",
    "y=9\n",
    "if(x>y):\n",
    "    print(\"x is larger\")\n",
    "else:\n",
    "        print(\"y is larger\")"
   ]
  },
  {
   "cell_type": "markdown",
   "metadata": {},
   "source": [
    "# need two numbers as input if both numbers are same then output must be square of first number if not the output must be multiplication of both numbers"
   ]
  },
  {
   "cell_type": "code",
   "execution_count": 15,
   "metadata": {},
   "outputs": [
    {
     "name": "stdout",
     "output_type": "stream",
     "text": [
      "9801\n"
     ]
    }
   ],
   "source": [
    "x=99\n",
    "y=99\n",
    "k=x**2\n",
    "r=x*y\n",
    "if(x==y):\n",
    "    print(k)\n",
    "else:\n",
    "    print(r)"
   ]
  },
  {
   "cell_type": "code",
   "execution_count": 16,
   "metadata": {},
   "outputs": [
    {
     "name": "stdout",
     "output_type": "stream",
     "text": [
      "9900\n"
     ]
    }
   ],
   "source": [
    "x=99\n",
    "y=100\n",
    "k=x**2\n",
    "r=x*y\n",
    "if(x==y):\n",
    "    print(k)\n",
    "else:\n",
    "    print(r)"
   ]
  },
  {
   "cell_type": "markdown",
   "metadata": {},
   "source": [
    "# only one number is input and check whether given number is zero,positive number or negative number"
   ]
  },
  {
   "cell_type": "code",
   "execution_count": 20,
   "metadata": {},
   "outputs": [
    {
     "name": "stdout",
     "output_type": "stream",
     "text": [
      "positive number\n"
     ]
    }
   ],
   "source": [
    "\n",
    "x=7\n",
    "if(x==0):\n",
    "    print(\"zero\")\n",
    "else:\n",
    "    if(x<0):\n",
    "        print(\"negative number\")\n",
    "    else:\n",
    "     print(\"positive number\")       "
   ]
  },
  {
   "cell_type": "code",
   "execution_count": 21,
   "metadata": {},
   "outputs": [
    {
     "name": "stdout",
     "output_type": "stream",
     "text": [
      "negative number\n"
     ]
    }
   ],
   "source": [
    "\n",
    "x=-7\n",
    "if(x==0):\n",
    "    print(\"zero\")\n",
    "else:\n",
    "    if(x<0):\n",
    "        print(\"negative number\")\n",
    "    else:\n",
    "     print(\"positive number\")   "
   ]
  },
  {
   "cell_type": "code",
   "execution_count": 22,
   "metadata": {},
   "outputs": [
    {
     "name": "stdout",
     "output_type": "stream",
     "text": [
      "zero\n"
     ]
    }
   ],
   "source": [
    "\n",
    "x=0\n",
    "if(x==0):\n",
    "    print(\"zero\")\n",
    "else:\n",
    "    if(x<0):\n",
    "        print(\"negative number\")\n",
    "    else:\n",
    "     print(\"positive number\")   "
   ]
  },
  {
   "cell_type": "code",
   "execution_count": 24,
   "metadata": {},
   "outputs": [
    {
     "name": "stdout",
     "output_type": "stream",
     "text": [
      "negative number\n"
     ]
    }
   ],
   "source": [
    "x=-10\n",
    "if(x<0):\n",
    "    print(\"negative number\")\n",
    "elif(x>0):\n",
    "    print(\"positive number\")\n",
    "elif(x==0):\n",
    "    print(\"zero\")"
   ]
  },
  {
   "cell_type": "markdown",
   "metadata": {},
   "source": [
    "# while condition"
   ]
  },
  {
   "cell_type": "code",
   "execution_count": 1,
   "metadata": {},
   "outputs": [
    {
     "name": "stdout",
     "output_type": "stream",
     "text": [
      "1\n",
      "2\n",
      "3\n",
      "4\n",
      "5\n",
      "6\n",
      "7\n",
      "8\n",
      "9\n",
      "10\n"
     ]
    }
   ],
   "source": [
    "n=1;\n",
    "while(n<=10):\n",
    "    print(n);\n",
    "    n=n+1;"
   ]
  },
  {
   "cell_type": "markdown",
   "metadata": {},
   "source": [
    "# print the numbers from 10 to 1"
   ]
  },
  {
   "cell_type": "code",
   "execution_count": 1,
   "metadata": {},
   "outputs": [
    {
     "name": "stdout",
     "output_type": "stream",
     "text": [
      "10\n",
      "9\n",
      "8\n",
      "7\n",
      "6\n",
      "5\n",
      "4\n",
      "3\n",
      "2\n",
      "1\n"
     ]
    }
   ],
   "source": [
    "n=10;\n",
    "while(n>=1):\n",
    "    print(n);\n",
    "    n=n-1"
   ]
  },
  {
   "cell_type": "markdown",
   "metadata": {},
   "source": [
    "# print the numbers from 22 to 45\n"
   ]
  },
  {
   "cell_type": "code",
   "execution_count": 2,
   "metadata": {},
   "outputs": [
    {
     "name": "stdout",
     "output_type": "stream",
     "text": [
      "22\n",
      "23\n",
      "24\n",
      "25\n",
      "26\n",
      "27\n",
      "28\n",
      "29\n",
      "30\n",
      "31\n",
      "32\n",
      "33\n",
      "34\n",
      "35\n",
      "36\n",
      "37\n",
      "38\n",
      "39\n",
      "40\n",
      "41\n",
      "42\n",
      "43\n",
      "44\n",
      "45\n"
     ]
    }
   ],
   "source": [
    "n=22;\n",
    "while(n<=45):\n",
    "    print(n);\n",
    "    n=n+1;"
   ]
  },
  {
   "cell_type": "markdown",
   "metadata": {},
   "source": [
    "# print the sum of even numbers between 1 to 100\n"
   ]
  },
  {
   "cell_type": "code",
   "execution_count": 9,
   "metadata": {},
   "outputs": [
    {
     "name": "stdout",
     "output_type": "stream",
     "text": [
      "2450\n"
     ]
    }
   ],
   "source": [
    "a=1;\n",
    "sum=0;\n",
    "while(a<100):\n",
    "    if(a%2==0):\n",
    "        sum=sum+a;\n",
    "    a=a+1;\n",
    "print(sum);\n"
   ]
  },
  {
   "cell_type": "code",
   "execution_count": 8,
   "metadata": {},
   "outputs": [
    {
     "name": "stdout",
     "output_type": "stream",
     "text": [
      "enter lower limit1\n",
      "enter upper limit100\n",
      "2450\n"
     ]
    }
   ],
   "source": [
    "x=int(input(\"enter lower limit\"));\n",
    "y=int(input(\"enter upper limit\"));\n",
    "sum=0;\n",
    "while(x!=y):\n",
    "    if(x%2==0):\n",
    "        sum=sum+x;\n",
    "    x=x+1;\n",
    "print(sum);"
   ]
  },
  {
   "cell_type": "markdown",
   "metadata": {},
   "source": [
    "# output : extract the digits of the number from right side direction"
   ]
  },
  {
   "cell_type": "code",
   "execution_count": 10,
   "metadata": {},
   "outputs": [
    {
     "name": "stdout",
     "output_type": "stream",
     "text": [
      "value145\n",
      "5\n",
      "4\n",
      "1\n"
     ]
    }
   ],
   "source": [
    "x=int(input(\"value\"));\n",
    "while(x>0):\n",
    "    k=x%10;\n",
    "    print(k)\n",
    "    x=x/10;\n",
    "    x=int(x);"
   ]
  },
  {
   "cell_type": "markdown",
   "metadata": {},
   "source": [
    "# add the even digits in a number \n"
   ]
  },
  {
   "cell_type": "code",
   "execution_count": 2,
   "metadata": {},
   "outputs": [
    {
     "name": "stdout",
     "output_type": "stream",
     "text": [
      "enter value142\n",
      "6\n"
     ]
    }
   ],
   "source": [
    "x=int(input(\"enter value\"));\n",
    "j=0;\n",
    "while(x>0):\n",
    "    b=x%10;\n",
    "    if(b%2==0):\n",
    "        j=j+b;\n",
    "    x=x/10;\n",
    "    x=int(x);\n",
    "print(j);"
   ]
  },
  {
   "cell_type": "markdown",
   "metadata": {},
   "source": [
    "# Respective name to digit "
   ]
  },
  {
   "cell_type": "code",
   "execution_count": null,
   "metadata": {},
   "outputs": [],
   "source": []
  },
  {
   "cell_type": "code",
   "execution_count": 6,
   "metadata": {},
   "outputs": [
    {
     "name": "stdout",
     "output_type": "stream",
     "text": [
      "enter value125\n",
      "five\n",
      "two\n",
      "one\n"
     ]
    }
   ],
   "source": [
    "x=int(input(\"enter value\"));\n",
    "j=0;\n",
    "while(x>0):\n",
    "    b=x%10;\n",
    "    if(b==0):\n",
    "        print(\"zero\");\n",
    "    elif(b==1):\n",
    "        print(\"one\");\n",
    "    elif(b==2):\n",
    "        print(\"two\");\n",
    "    elif(b==3):\n",
    "        print(\"three\");\n",
    "    elif(b==4):\n",
    "        print(\"four\");\n",
    "    elif(b==5):\n",
    "        print(\"five\");\n",
    "    elif(b==6):\n",
    "        print(\"six\");\n",
    "    elif(b==7):\n",
    "        print(\"seven\");\n",
    "    elif(b==8):\n",
    "        print(\"eight\");\n",
    "    elif(b==9):\n",
    "        print(\"nine\");\n",
    "        \n",
    "    x=x/10;\n",
    "    x=int(x);\n"
   ]
  },
  {
   "cell_type": "code",
   "execution_count": null,
   "metadata": {},
   "outputs": [],
   "source": []
  }
 ],
 "metadata": {
  "kernelspec": {
   "display_name": "Python 3",
   "language": "python",
   "name": "python3"
  },
  "language_info": {
   "codemirror_mode": {
    "name": "ipython",
    "version": 3
   },
   "file_extension": ".py",
   "mimetype": "text/x-python",
   "name": "python",
   "nbconvert_exporter": "python",
   "pygments_lexer": "ipython3",
   "version": "3.7.3"
  }
 },
 "nbformat": 4,
 "nbformat_minor": 2
}
