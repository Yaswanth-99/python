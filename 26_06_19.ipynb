{
  "nbformat": 4,
  "nbformat_minor": 0,
  "metadata": {
    "colab": {
      "name": "26-06-19.ipynb",
      "version": "0.3.2",
      "provenance": [],
      "collapsed_sections": [],
      "include_colab_link": true
    },
    "kernelspec": {
      "name": "python3",
      "display_name": "Python 3"
    }
  },
  "cells": [
    {
      "cell_type": "markdown",
      "metadata": {
        "id": "view-in-github",
        "colab_type": "text"
      },
      "source": [
        "<a href=\"https://colab.research.google.com/github/Yaswanth-99/python/blob/master/26_06_19.ipynb\" target=\"_parent\"><img src=\"https://colab.research.google.com/assets/colab-badge.svg\" alt=\"Open In Colab\"/></a>"
      ]
    },
    {
      "cell_type": "markdown",
      "metadata": {
        "id": "0yuL9-jM2lgo",
        "colab_type": "text"
      },
      "source": [
        "##String function - In built Functions\n",
        "\n",
        "upper() - returns string in which all the characters in upper case \n",
        "\n",
        "isalpha() - true and false (given string need to have only alphabetic characters)\n",
        "\n",
        "istitle() - true and false (string is in title case)\n",
        "\n",
        "isspace() - true and false "
      ]
    },
    {
      "cell_type": "code",
      "metadata": {
        "id": "iA5eMiH05f4N",
        "colab_type": "code",
        "outputId": "af3886f3-0cfa-472b-e317-528aa633d5cf",
        "colab": {
          "base_uri": "https://localhost:8080/",
          "height": 34
        }
      },
      "source": [
        "str = \"yaswanth\"\n",
        "print(str.upper())"
      ],
      "execution_count": 0,
      "outputs": [
        {
          "output_type": "stream",
          "text": [
            "YASWANTH\n"
          ],
          "name": "stdout"
        }
      ]
    },
    {
      "cell_type": "code",
      "metadata": {
        "id": "3AFRFH_56bfJ",
        "colab_type": "code",
        "outputId": "e4ea5558-d9f7-47fb-bdd6-04ec0f5f04ee",
        "colab": {
          "base_uri": "https://localhost:8080/",
          "height": 50
        }
      },
      "source": [
        "s = \"python is easy programming to learn and interesting\"\n",
        "s1 = \"python\"\n",
        "print(s.islower())\n",
        "print(s1.isupper())"
      ],
      "execution_count": 0,
      "outputs": [
        {
          "output_type": "stream",
          "text": [
            "True\n",
            "False\n"
          ],
          "name": "stdout"
        }
      ]
    },
    {
      "cell_type": "code",
      "metadata": {
        "id": "6OAEsj5w6bd0",
        "colab_type": "code",
        "outputId": "6b3d6db3-2219-4f67-a8b5-047dd82016ff",
        "colab": {
          "base_uri": "https://localhost:8080/",
          "height": 50
        }
      },
      "source": [
        "s = \"application\"\n",
        "s1 = \"YASHU\"\n",
        "print(s.islower())\n",
        "print(s1.isupper())"
      ],
      "execution_count": 0,
      "outputs": [
        {
          "output_type": "stream",
          "text": [
            "True\n",
            "True\n"
          ],
          "name": "stdout"
        }
      ]
    },
    {
      "cell_type": "code",
      "metadata": {
        "id": "0_DZQmx97LcD",
        "colab_type": "code",
        "outputId": "898659b3-4ac5-4a8d-9dca-d9deadad89dd",
        "colab": {
          "base_uri": "https://localhost:8080/",
          "height": 50
        }
      },
      "source": [
        "s = \"1234\"\n",
        "s1 = \"568a\"\n",
        "print(s.isnumeric())\n",
        "print(s1.isnumeric())"
      ],
      "execution_count": 0,
      "outputs": [
        {
          "output_type": "stream",
          "text": [
            "True\n",
            "False\n"
          ],
          "name": "stdout"
        }
      ]
    },
    {
      "cell_type": "code",
      "metadata": {
        "id": "vShrXJrc7w1q",
        "colab_type": "code",
        "outputId": "94e58933-33ee-49e1-8671-782747d24b39",
        "colab": {
          "base_uri": "https://localhost:8080/",
          "height": 50
        }
      },
      "source": [
        "s = \"application\"\n",
        "s1 = \"app1889\"\n",
        "print(s.isalpha())\n",
        "print(s1.isalpha())"
      ],
      "execution_count": 0,
      "outputs": [
        {
          "output_type": "stream",
          "text": [
            "True\n",
            "False\n"
          ],
          "name": "stdout"
        }
      ]
    },
    {
      "cell_type": "code",
      "metadata": {
        "id": "fZKiFM4F8cEw",
        "colab_type": "code",
        "outputId": "7b5714a4-3919-4d1d-acd9-5ec85a4639aa",
        "colab": {
          "base_uri": "https://localhost:8080/",
          "height": 50
        }
      },
      "source": [
        "s = \"Python programming\"\n",
        "s1 = \"python programming\"\n",
        "print(s.istitle())\n",
        "print(s1.istitle())"
      ],
      "execution_count": 0,
      "outputs": [
        {
          "output_type": "stream",
          "text": [
            "False\n",
            "False\n"
          ],
          "name": "stdout"
        }
      ]
    },
    {
      "cell_type": "code",
      "metadata": {
        "id": "-XXCxcv3-SET",
        "colab_type": "code",
        "outputId": "b060a74c-ca99-45d0-f00d-bc7d5acb1038",
        "colab": {
          "base_uri": "https://localhost:8080/",
          "height": 34
        }
      },
      "source": [
        "s = \"python \"\n",
        "print(s.isspace())"
      ],
      "execution_count": 0,
      "outputs": [
        {
          "output_type": "stream",
          "text": [
            "False\n"
          ],
          "name": "stdout"
        }
      ]
    },
    {
      "cell_type": "markdown",
      "metadata": {
        "id": "BZU6BcXI-zye",
        "colab_type": "text"
      },
      "source": [
        "### String methods\n",
        "1. join()  : join() method will concatinate two strings \n",
        "\n",
        "\n",
        "2. split() :split() returns a list of strings that are seperated by whitespaces if there are no parameters\n",
        "  \n",
        "3.replace(): replace the original string with new string"
      ]
    },
    {
      "cell_type": "code",
      "metadata": {
        "id": "J3W6sGuC-SBN",
        "colab_type": "code",
        "outputId": "01c5d800-5379-42d3-9742-099a4bd3014c",
        "colab": {
          "base_uri": "https://localhost:8080/",
          "height": 34
        }
      },
      "source": [
        "str = \"python\"\n",
        "print(\" \".join(str))"
      ],
      "execution_count": 0,
      "outputs": [
        {
          "output_type": "stream",
          "text": [
            "p y t h o n\n"
          ],
          "name": "stdout"
        }
      ]
    },
    {
      "cell_type": "code",
      "metadata": {
        "id": "414oN3j9BvLv",
        "colab_type": "code",
        "colab": {
          "base_uri": "https://localhost:8080/",
          "height": 50
        },
        "outputId": "84d55343-3829-489e-bc17-788abde278ba"
      },
      "source": [
        "s = \"python,programming,is,easy,to,learn\"\n",
        "print(s.split())\n",
        "print(s.split(\"a\"))"
      ],
      "execution_count": 21,
      "outputs": [
        {
          "output_type": "stream",
          "text": [
            "['python,programming,is,easy,to,learn']\n",
            "['python,progr', 'mming,is,e', 'sy,to,le', 'rn']\n"
          ],
          "name": "stdout"
        }
      ]
    },
    {
      "cell_type": "code",
      "metadata": {
        "id": "EeNhpw-DBvJB",
        "colab_type": "code",
        "colab": {
          "base_uri": "https://localhost:8080/",
          "height": 50
        },
        "outputId": "a1bcaf8f-7d3c-449d-9bb1-89fd8ebd2223"
      },
      "source": [
        "s = \"Python Programming is easy to learn\"\n",
        "lst = s.split()\n",
        "print(lst)\n",
        "print(lst.index(\"is\"))"
      ],
      "execution_count": 22,
      "outputs": [
        {
          "output_type": "stream",
          "text": [
            "['Python', 'Programming', 'is', 'easy', 'to', 'learn']\n",
            "2\n"
          ],
          "name": "stdout"
        }
      ]
    },
    {
      "cell_type": "code",
      "metadata": {
        "id": "1WxJBldkDMR8",
        "colab_type": "code",
        "colab": {
          "base_uri": "https://localhost:8080/",
          "height": 34
        },
        "outputId": "3f7c6ea9-fafb-49cd-c2b0-e18c12df0b30"
      },
      "source": [
        "s = \"Python Programming is easy to learn\"\n",
        "print(s.replace(\"gra\",\"application\"))\n"
      ],
      "execution_count": 24,
      "outputs": [
        {
          "output_type": "stream",
          "text": [
            "Python Proapplicationmming is easy to learn\n"
          ],
          "name": "stdout"
        }
      ]
    },
    {
      "cell_type": "markdown",
      "metadata": {
        "id": "XdWEIn0xKFZn",
        "colab_type": "text"
      },
      "source": [
        "## Python - Tuples\n",
        " a tuple of seq of set of objects is like list only .\n",
        " \n",
        " the differences of list and tuples  are ,the tuples cannot be changed unlike list \n",
        " \n",
        " list will use square brackets hold objects[]\n",
        " \n",
        " tuples will use parenthesis to hold objects()"
      ]
    },
    {
      "cell_type": "code",
      "metadata": {
        "id": "JCnmSoJfKL6l",
        "colab_type": "code",
        "colab": {
          "base_uri": "https://localhost:8080/",
          "height": 50
        },
        "outputId": "22ec69f9-44ea-4d58-b68f-79070c2743e0"
      },
      "source": [
        "t1 = (\"Python\",\"Programming\",1989,2019,\"Machine Learning\",\"AI\")\n",
        "t2 = (1,2,3,4)\n",
        "print(t1)\n",
        "print(t2)"
      ],
      "execution_count": 26,
      "outputs": [
        {
          "output_type": "stream",
          "text": [
            "('Python', 'Programming', 1989, 2019, 'Machine Learning', 'AI')\n",
            "(1, 2, 3, 4)\n"
          ],
          "name": "stdout"
        }
      ]
    },
    {
      "cell_type": "code",
      "metadata": {
        "id": "uVj3eMpjKL3A",
        "colab_type": "code",
        "colab": {
          "base_uri": "https://localhost:8080/",
          "height": 101
        },
        "outputId": "df5892b5-edce-4720-e7ab-1a9a9f7591b6"
      },
      "source": [
        "t1 = (\"Python\",\"Programming\",1989,2019,\"Machine Learning\",\"AI\")\n",
        "print(\"t1[0] = \",t1[0])\n",
        "print(\"t1[2] = \",t1[2])\n",
        "print(\"t1[-1] = \",t1[-1])\n",
        "print(\"t1[1:4] = \",t1[1:4])\n",
        "print(\"t1[2:-2] = \",t1[2:-2])"
      ],
      "execution_count": 27,
      "outputs": [
        {
          "output_type": "stream",
          "text": [
            "t1[0] =  Python\n",
            "t1[2] =  1989\n",
            "t1[-1] =  AI\n",
            "t1[1:4] =  ('Programming', 1989, 2019)\n",
            "t1[2:-2] =  (1989, 2019)\n"
          ],
          "name": "stdout"
        }
      ]
    },
    {
      "cell_type": "code",
      "metadata": {
        "id": "B_9SGhxjKLzJ",
        "colab_type": "code",
        "colab": {
          "base_uri": "https://localhost:8080/",
          "height": 212
        },
        "outputId": "d0e67192-1bff-4d5f-a252-046f58a16162"
      },
      "source": [
        "t1 = (\"Python\",\"Programming\",1989,2019,\"Machine Learning\",\"AI\")\n",
        "print(t1)\n",
        "del t1\n",
        "print(t1)"
      ],
      "execution_count": 36,
      "outputs": [
        {
          "output_type": "stream",
          "text": [
            "('Python', 'Programming', 1989, 2019, 'Machine Learning', 'AI')\n"
          ],
          "name": "stdout"
        },
        {
          "output_type": "error",
          "ename": "NameError",
          "evalue": "ignored",
          "traceback": [
            "\u001b[0;31m---------------------------------------------------------------------------\u001b[0m",
            "\u001b[0;31mNameError\u001b[0m                                 Traceback (most recent call last)",
            "\u001b[0;32m<ipython-input-36-31ea401d3e80>\u001b[0m in \u001b[0;36m<module>\u001b[0;34m()\u001b[0m\n\u001b[1;32m      2\u001b[0m \u001b[0mprint\u001b[0m\u001b[0;34m(\u001b[0m\u001b[0mt1\u001b[0m\u001b[0;34m)\u001b[0m\u001b[0;34m\u001b[0m\u001b[0;34m\u001b[0m\u001b[0m\n\u001b[1;32m      3\u001b[0m \u001b[0;32mdel\u001b[0m \u001b[0mt1\u001b[0m\u001b[0;34m\u001b[0m\u001b[0;34m\u001b[0m\u001b[0m\n\u001b[0;32m----> 4\u001b[0;31m \u001b[0mprint\u001b[0m\u001b[0;34m(\u001b[0m\u001b[0mt1\u001b[0m\u001b[0;34m)\u001b[0m\u001b[0;34m\u001b[0m\u001b[0;34m\u001b[0m\u001b[0m\n\u001b[0m",
            "\u001b[0;31mNameError\u001b[0m: name 't1' is not defined"
          ]
        }
      ]
    },
    {
      "cell_type": "code",
      "metadata": {
        "id": "0NpxkLM2OhJG",
        "colab_type": "code",
        "colab": {}
      },
      "source": [
        "t1 = (\"python\",\"programming\")\n",
        "t2 = (1989,2019,\"ML\",\"AI\")\n",
        "t3 = t1 + t2"
      ],
      "execution_count": 0,
      "outputs": []
    },
    {
      "cell_type": "markdown",
      "metadata": {
        "id": "BE1F-jEeQbQ3",
        "colab_type": "text"
      },
      "source": [
        "### Tuple Methods\n",
        "1. len(tuple ) : len of the tuple\n",
        "2.max(tuple) : returns the max value from tuple\n",
        "3.min(tuple)  : returns the min value from tuple\n",
        "4.cmp(tuple1,tuple2) : returns the value as 1 or -1\n"
      ]
    },
    {
      "cell_type": "code",
      "metadata": {
        "id": "Oi6lL_hrRccg",
        "colab_type": "code",
        "colab": {
          "base_uri": "https://localhost:8080/",
          "height": 50
        },
        "outputId": "6a2cb4a0-c6a2-42b6-db7b-bbb748e2ce3e"
      },
      "source": [
        "list1 = [\"Python\",\"Programming\",1989,2019,\"Machine Learning\",\"AI\"]\n",
        "print(list1)\n",
        "tuple1 = tuple(list1)\n",
        "print(tuple1)"
      ],
      "execution_count": 37,
      "outputs": [
        {
          "output_type": "stream",
          "text": [
            "['Python', 'Programming', 1989, 2019, 'Machine Learning', 'AI']\n",
            "('Python', 'Programming', 1989, 2019, 'Machine Learning', 'AI')\n"
          ],
          "name": "stdout"
        }
      ]
    },
    {
      "cell_type": "markdown",
      "metadata": {
        "id": "3SGkP7q5T3Gu",
        "colab_type": "text"
      },
      "source": [
        "##Python Dictionary\n",
        "Dictionary  each key is seperated with values by colon( : )\n",
        "  \n",
        "  user data is seperated from comma operator \n",
        "\n",
        "examples  :-\n",
        "\n",
        "user 1 = {'name','yaswanth','age',}\n",
        "### Methods\n",
        "\n",
        "**1.len(dictobj)** :- returns a number which having length\n",
        "\n",
        "**2.str(dicObj)** :- returns the equ  string to dic object\n",
        "\n",
        "**3.copy()** :- copies the one dic obj data to another dic obj data \n",
        "\n",
        "**4.items()** :-returns a list of dict \n"
      ]
    },
    {
      "cell_type": "code",
      "metadata": {
        "id": "fjU34UteT-Fk",
        "colab_type": "code",
        "colab": {
          "base_uri": "https://localhost:8080/",
          "height": 212
        },
        "outputId": "167504dd-7bba-428f-e86b-f68d223cb11e"
      },
      "source": [
        "user1 = {'name':'yaswanth' , 'age':18,'email id':'yaswantharumilli15@gmail.com' }\n",
        "print(\"user1[name] = \",user1[name])\n",
        "print(\"user1[age] = \",user1[age])\n",
        "print(\"user1[emailid] = \",user1[emailid])"
      ],
      "execution_count": 51,
      "outputs": [
        {
          "output_type": "error",
          "ename": "NameError",
          "evalue": "ignored",
          "traceback": [
            "\u001b[0;31m---------------------------------------------------------------------------\u001b[0m",
            "\u001b[0;31mNameError\u001b[0m                                 Traceback (most recent call last)",
            "\u001b[0;32m<ipython-input-51-17da579eb1ae>\u001b[0m in \u001b[0;36m<module>\u001b[0;34m()\u001b[0m\n\u001b[1;32m      1\u001b[0m \u001b[0muser1\u001b[0m \u001b[0;34m=\u001b[0m \u001b[0;34m{\u001b[0m\u001b[0;34m'name'\u001b[0m\u001b[0;34m:\u001b[0m\u001b[0;34m'yaswanth'\u001b[0m \u001b[0;34m,\u001b[0m \u001b[0;34m'age'\u001b[0m\u001b[0;34m:\u001b[0m\u001b[0;36m18\u001b[0m\u001b[0;34m,\u001b[0m\u001b[0;34m'email id'\u001b[0m\u001b[0;34m:\u001b[0m\u001b[0;34m'yaswantharumilli15@gmail.com'\u001b[0m \u001b[0;34m}\u001b[0m\u001b[0;34m\u001b[0m\u001b[0;34m\u001b[0m\u001b[0m\n\u001b[0;32m----> 2\u001b[0;31m \u001b[0mprint\u001b[0m\u001b[0;34m(\u001b[0m\u001b[0;34m\"user1[name] = \"\u001b[0m\u001b[0;34m,\u001b[0m\u001b[0muser1\u001b[0m\u001b[0;34m[\u001b[0m\u001b[0mname\u001b[0m\u001b[0;34m]\u001b[0m\u001b[0;34m)\u001b[0m\u001b[0;34m\u001b[0m\u001b[0;34m\u001b[0m\u001b[0m\n\u001b[0m\u001b[1;32m      3\u001b[0m \u001b[0mprint\u001b[0m\u001b[0;34m(\u001b[0m\u001b[0;34m\"user1[age] = \"\u001b[0m\u001b[0;34m,\u001b[0m\u001b[0muser1\u001b[0m\u001b[0;34m[\u001b[0m\u001b[0mage\u001b[0m\u001b[0;34m]\u001b[0m\u001b[0;34m)\u001b[0m\u001b[0;34m\u001b[0m\u001b[0;34m\u001b[0m\u001b[0m\n\u001b[1;32m      4\u001b[0m \u001b[0mprint\u001b[0m\u001b[0;34m(\u001b[0m\u001b[0;34m\"user1[emailid] = \"\u001b[0m\u001b[0;34m,\u001b[0m\u001b[0muser1\u001b[0m\u001b[0;34m[\u001b[0m\u001b[0memailid\u001b[0m\u001b[0;34m]\u001b[0m\u001b[0;34m)\u001b[0m\u001b[0;34m\u001b[0m\u001b[0;34m\u001b[0m\u001b[0m\n",
            "\u001b[0;31mNameError\u001b[0m: name 'name' is not defined"
          ]
        }
      ]
    },
    {
      "cell_type": "code",
      "metadata": {
        "id": "hnczTnOBT-A2",
        "colab_type": "code",
        "colab": {
          "base_uri": "https://localhost:8080/",
          "height": 84
        },
        "outputId": "defd55da-5ac7-4aa6-cdd8-cd83d1f0454b"
      },
      "source": [
        "user1 = {'Name':'yaswanth','Age':'18','EmailID':'yaswanth@gmail.com','MobileNumber':'9999999999'}\n",
        "print('user1[Name] = ',user1['Name'])\n",
        "print('user1[EmailID] = ',user1['EmailID'])\n",
        "print('user1[Age] = ',user1['Age'])\n",
        "print('user1[MobileNumber] = ',user1['MobileNumber'])"
      ],
      "execution_count": 41,
      "outputs": [
        {
          "output_type": "stream",
          "text": [
            "user1[Name] =  yaswanth\n",
            "user1[EmailID] =  yaswanth@gmail.com\n",
            "user1[Age] =  18\n",
            "user1[MobileNumber] =  9999999999\n"
          ],
          "name": "stdout"
        }
      ]
    },
    {
      "cell_type": "code",
      "metadata": {
        "id": "mMHKhdgJe2PK",
        "colab_type": "code",
        "colab": {
          "base_uri": "https://localhost:8080/",
          "height": 67
        },
        "outputId": "a6b453fc-73fe-4aac-afd6-7b7fe2b5c812"
      },
      "source": [
        "user1 = {'Name':'yaswanth','Age':'18','EmailID':'yaswanth@gmail.com','MobileNumber':'9999999999'}\n",
        "print(user1['EmailID'])\n",
        "#update the dictionary object data\n",
        "user1['EmailID'] = 'yaswantharumilli15@gmail.com'\n",
        "print(user1['EmailID'])\n",
        "user1['Address'] = 'Hyderabad' # new entry for an item in dictionary object\n",
        "print(user1['Address'])"
      ],
      "execution_count": 44,
      "outputs": [
        {
          "output_type": "stream",
          "text": [
            "yaswanth@gmail.com\n",
            "yaswantharumilli15@gmail.com\n",
            "Hyderabad\n"
          ],
          "name": "stdout"
        }
      ]
    },
    {
      "cell_type": "code",
      "metadata": {
        "id": "dBobGFqKgIuP",
        "colab_type": "code",
        "colab": {}
      },
      "source": [
        "user1 = {'Name':'yaswanth','Age':'18','EmailID':'yaswanth@gmail.com','MobileNumber':'9999999999'}\n",
        "del user1['EmailID']\n",
        "user1.clear()\n",
        "del user1"
      ],
      "execution_count": 0,
      "outputs": []
    },
    {
      "cell_type": "code",
      "metadata": {
        "id": "oDuZwC-YhEMC",
        "colab_type": "code",
        "colab": {}
      },
      "source": [
        "user1 = {'Name':'yaswanth','Age':'18','EmailID':'yaswanth@gmail.com','MobileNumber':'9999999999'}\n",
        "print(len(user1))\n",
        "user1['address']"
      ],
      "execution_count": 0,
      "outputs": []
    },
    {
      "cell_type": "code",
      "metadata": {
        "id": "Njx1JN5ohEF-",
        "colab_type": "code",
        "colab": {
          "base_uri": "https://localhost:8080/",
          "height": 84
        },
        "outputId": "2425198b-8389-4c2c-b1e4-22b008e4d890"
      },
      "source": [
        "user1 = {'Name':'yaswanth','Age':'18','EmailID':'yaswanth@gmail.com','MobileNumber':'9999999999'}\n",
        "user2 = user1.copy()\n",
        "print(user1)\n",
        "print(user2)\n",
        "user1['Address'] = 'hyderabad'\n",
        "print(user1)\n",
        "print(user2)"
      ],
      "execution_count": 50,
      "outputs": [
        {
          "output_type": "stream",
          "text": [
            "{'Name': 'yaswanth', 'Age': '18', 'EmailID': 'yaswanth@gmail.com', 'MobileNumber': '9999999999'}\n",
            "{'Name': 'yaswanth', 'Age': '18', 'EmailID': 'yaswanth@gmail.com', 'MobileNumber': '9999999999'}\n",
            "{'Name': 'yaswanth', 'Age': '18', 'EmailID': 'yaswanth@gmail.com', 'MobileNumber': '9999999999', 'Address': 'hyderabad'}\n",
            "{'Name': 'yaswanth', 'Age': '18', 'EmailID': 'yaswanth@gmail.com', 'MobileNumber': '9999999999', 'Address': 'hyderabad'}\n"
          ],
          "name": "stdout"
        }
      ]
    },
    {
      "cell_type": "code",
      "metadata": {
        "id": "viYvXvxYma2E",
        "colab_type": "code",
        "colab": {
          "base_uri": "https://localhost:8080/",
          "height": 34
        },
        "outputId": "2b8962f1-892e-4be7-8242-820aa79d86f9"
      },
      "source": [
        "user1 = {'Name':'yaswanth','Age':'18','EmailID':'yaswanth@gmail.com','MobileNumber':'9999999999'}\n",
        "print(user1.items())"
      ],
      "execution_count": 52,
      "outputs": [
        {
          "output_type": "stream",
          "text": [
            "dict_items([('Name', 'yaswanth'), ('Age', '18'), ('EmailID', 'yaswanth@gmail.com'), ('MobileNumber', '9999999999')])\n"
          ],
          "name": "stdout"
        }
      ]
    },
    {
      "cell_type": "code",
      "metadata": {
        "id": "nyzNb98Qmk8t",
        "colab_type": "code",
        "colab": {}
      },
      "source": [
        ""
      ],
      "execution_count": 0,
      "outputs": []
    },
    {
      "cell_type": "code",
      "metadata": {
        "id": "MvoTs5SjmlEt",
        "colab_type": "code",
        "colab": {
          "base_uri": "https://localhost:8080/",
          "height": 34
        },
        "outputId": "b257b44a-0d9c-4f69-f47c-43888a9775a0"
      },
      "source": [
        "user1 = {'Name':'yaswanth','Age':'18','EmailID':'yaswanth@gmail.com','MobileNumber':'9999999999'}\n",
        "print(user1.values())"
      ],
      "execution_count": 53,
      "outputs": [
        {
          "output_type": "stream",
          "text": [
            "dict_values(['yaswanth', '18', 'yaswanth@gmail.com', '9999999999'])\n"
          ],
          "name": "stdout"
        }
      ]
    },
    {
      "cell_type": "code",
      "metadata": {
        "id": "MuBXCl6Xm9e9",
        "colab_type": "code",
        "colab": {
          "base_uri": "https://localhost:8080/",
          "height": 50
        },
        "outputId": "c2a8b139-141a-4979-8418-e56c84713a69"
      },
      "source": [
        "user1 = {'Name':'yaswanth','Age':'18','EmailID':'yaswanth@gmail.com','MobileNumber':'9999999999'}\n",
        "user2=user1.copy()\n",
        "print(user1.values())\n",
        "print(user2.values())"
      ],
      "execution_count": 54,
      "outputs": [
        {
          "output_type": "stream",
          "text": [
            "dict_values(['yaswanth', '18', 'yaswanth@gmail.com', '9999999999'])\n",
            "dict_values(['yaswanth', '18', 'yaswanth@gmail.com', '9999999999'])\n"
          ],
          "name": "stdout"
        }
      ]
    },
    {
      "cell_type": "markdown",
      "metadata": {
        "id": "E50F_wbxn1U6",
        "colab_type": "text"
      },
      "source": [
        "### String Formatting\n",
        "%s %d"
      ]
    },
    {
      "cell_type": "code",
      "metadata": {
        "id": "nz7S15jMoLN5",
        "colab_type": "code",
        "colab": {
          "base_uri": "https://localhost:8080/",
          "height": 34
        },
        "outputId": "040e3ee5-a74f-4d16-e9d8-e810cea40256"
      },
      "source": [
        "lst = ['python','programming']\n",
        "print(\"%s %s\"%(lst[0],lst[1]))"
      ],
      "execution_count": 55,
      "outputs": [
        {
          "output_type": "stream",
          "text": [
            "python programming\n"
          ],
          "name": "stdout"
        }
      ]
    },
    {
      "cell_type": "code",
      "metadata": {
        "id": "uCQOLdqyoLGJ",
        "colab_type": "code",
        "colab": {
          "base_uri": "https://localhost:8080/",
          "height": 34
        },
        "outputId": "b2bc468d-a3c3-47a8-9ee3-d33d962c9560"
      },
      "source": [
        "lst = ['python','programming']\n",
        "print(\"{0} {1}\" . format(lst[0],lst[1]))\n"
      ],
      "execution_count": 56,
      "outputs": [
        {
          "output_type": "stream",
          "text": [
            "python programming\n"
          ],
          "name": "stdout"
        }
      ]
    },
    {
      "cell_type": "code",
      "metadata": {
        "id": "9oyK-Edt7mjI",
        "colab_type": "code",
        "colab": {
          "base_uri": "https://localhost:8080/",
          "height": 67
        },
        "outputId": "9038607e-9441-49bc-fad7-7d144ccfcd63"
      },
      "source": [
        "contacts = {}\n",
        "def addcontact(name,phone) : \n",
        "    #verify that the contact doesnt exist already\n",
        "    if name not in contacts:\n",
        "        contacts[name] = phone\n",
        "        print(\"contact %s added\" % name)\n",
        "    else:\n",
        "       print(\"contact %s already exists\" % name)\n",
        "        \n",
        "    return\n",
        "addcontact(\"yashu\",1545154)\n",
        "addcontact(\"yash\",15487879)\n",
        "addcontact(\"yashu\",144884)"
      ],
      "execution_count": 57,
      "outputs": [
        {
          "output_type": "stream",
          "text": [
            "contact yashu added\n",
            "contact yash added\n",
            "contact yashu already exists\n"
          ],
          "name": "stdout"
        }
      ]
    },
    {
      "cell_type": "code",
      "metadata": {
        "id": "3wtjKs_G7mxt",
        "colab_type": "code",
        "colab": {
          "base_uri": "https://localhost:8080/",
          "height": 50
        },
        "outputId": "076d17d8-c2f8-47d5-a6a7-6bc62b5acd70"
      },
      "source": [
        "#search for a particular contact from contacts list\n",
        "def SearchContact(name):\n",
        "    if name in contacts:\n",
        "      print(name, \" : \", contacts[name])\n",
        "    else:\n",
        "        print(\"%s does not exists\" % name )\n",
        "    return\n",
        "SearchContact(\"yashu\")\n",
        "SearchContact(\"yaswanth\")"
      ],
      "execution_count": 58,
      "outputs": [
        {
          "output_type": "stream",
          "text": [
            "yashu  :  1545154\n",
            "yaswanth does not exists\n"
          ],
          "name": "stdout"
        }
      ]
    },
    {
      "cell_type": "code",
      "metadata": {
        "id": "8PLPIxLq7mbG",
        "colab_type": "code",
        "colab": {
          "base_uri": "https://localhost:8080/",
          "height": 34
        },
        "outputId": "cf2923c0-6ca6-413d-8d5c-4fa6563e97ed"
      },
      "source": [
        "# when contacts is given  as  a dictionary \n",
        "# merge new contact with existing contact list\n",
        "def importcontacts(newcontacts):\n",
        "  contacts.update(newcontacts)\n",
        "  print(len(newcontacts.keys()),\"contacts added successfully\")\n",
        "  return\n",
        "newcontacts = {'yaswanth':6597985644,'tarak':8987847475}\n",
        "importcontacts(newcontacts)"
      ],
      "execution_count": 59,
      "outputs": [
        {
          "output_type": "stream",
          "text": [
            "2 contacts added successfully\n"
          ],
          "name": "stdout"
        }
      ]
    },
    {
      "cell_type": "code",
      "metadata": {
        "id": "X9aiuQBLILAV",
        "colab_type": "code",
        "colab": {
          "base_uri": "https://localhost:8080/",
          "height": 50
        },
        "outputId": "98777181-9bff-4fda-dcd9-fd95a889b860"
      },
      "source": [
        "#Delete a conatct from contacts list\n",
        "def deletecontact(name):\n",
        " if name in contacts:\n",
        "   del contacts[name]\n",
        "   print(name,'is deleted from the contacts')\n",
        " else:\n",
        "   print(name,'does not exists in the contacts')\n",
        " return\n",
        "deletecontact('yaswanth')\n",
        "deletecontact('tarak')\n",
        "              \n",
        "                "
      ],
      "execution_count": 60,
      "outputs": [
        {
          "output_type": "stream",
          "text": [
            "yaswanth is deleted from the contacts\n",
            "tarak is deleted from the contacts\n"
          ],
          "name": "stdout"
        }
      ]
    },
    {
      "cell_type": "code",
      "metadata": {
        "id": "q9lmwVHaMIen",
        "colab_type": "code",
        "colab": {
          "base_uri": "https://localhost:8080/",
          "height": 50
        },
        "outputId": "b418cce1-f3d9-4345-ab02-4472453b8cc2"
      },
      "source": [
        "\n",
        "def updatecontact(name,phone):\n",
        " if name in contacts:\n",
        "   contacts[name] = phone\n",
        "   print(name,'Updated with new Phone number')\n",
        " else:\n",
        "   print(name,'Not exists in contacts')\n",
        " return\n",
        "updatecontact('yashu',9852415846)\n",
        "updatecontact('yash ',9865456354)\n"
      ],
      "execution_count": 63,
      "outputs": [
        {
          "output_type": "stream",
          "text": [
            "yashu Updated with new Phone number\n",
            "yash Updated with new Phone number\n"
          ],
          "name": "stdout"
        }
      ]
    },
    {
      "cell_type": "markdown",
      "metadata": {
        "id": "EaDfauEnQZst",
        "colab_type": "text"
      },
      "source": [
        ""
      ]
    },
    {
      "cell_type": "markdown",
      "metadata": {
        "id": "5Y1goAJiOfxe",
        "colab_type": "text"
      },
      "source": [
        "###Packages and Modules\n",
        "\n",
        "**Package**:- Collection of Modules(Python file .py)\n",
        "\n",
        "**Sub Packages**:- Its part of Main package\n",
        "\n",
        "**Module**:- A single Python file contains set of operations(Functions)\n",
        "\n",
        "        *#Package --> Sub package --> Modules --> Functions*\n",
        "        \n",
        "        *#Standard Lib -- Math *"
      ]
    },
    {
      "cell_type": "code",
      "metadata": {
        "id": "gQ93tkJncdna",
        "colab_type": "code",
        "colab": {
          "base_uri": "https://localhost:8080/",
          "height": 34
        },
        "outputId": "b1f92456-6361-4f05-f082-36d97b17a27c"
      },
      "source": [
        "from math import floor as f1\n",
        "f1(1.5)\n"
      ],
      "execution_count": 72,
      "outputs": [
        {
          "output_type": "execute_result",
          "data": {
            "text/plain": [
              "1"
            ]
          },
          "metadata": {
            "tags": []
          },
          "execution_count": 72
        }
      ]
    },
    {
      "cell_type": "code",
      "metadata": {
        "id": "fNvMuy_-ceTi",
        "colab_type": "code",
        "colab": {
          "base_uri": "https://localhost:8080/",
          "height": 34
        },
        "outputId": "b5465d5e-a354-4706-c3a8-56e8ae434b7b"
      },
      "source": [
        "from math import factorial as f2\n",
        "f2(1)"
      ],
      "execution_count": 73,
      "outputs": [
        {
          "output_type": "execute_result",
          "data": {
            "text/plain": [
              "1"
            ]
          },
          "metadata": {
            "tags": []
          },
          "execution_count": 73
        }
      ]
    },
    {
      "cell_type": "code",
      "metadata": {
        "id": "UuPcHFyWcTUY",
        "colab_type": "code",
        "colab": {
          "base_uri": "https://localhost:8080/",
          "height": 34
        },
        "outputId": "85957f46-e850-4d56-c4d3-463005cc9bec"
      },
      "source": [
        "#Generate the random numbers between two limits\n",
        "import random\n",
        "def generaterandomnumbers(n,lb,ub):\n",
        "  for i in range(0,n):\n",
        "    print(random.randint(lb,ub),end=' ')\n",
        "  return\n",
        "generaterandomnumbers(10,12,120)"
      ],
      "execution_count": 71,
      "outputs": [
        {
          "output_type": "stream",
          "text": [
            "52 110 106 73 78 63 64 88 17 72 "
          ],
          "name": "stdout"
        }
      ]
    },
    {
      "cell_type": "markdown",
      "metadata": {
        "id": "j8utppLmj_NV",
        "colab_type": "text"
      },
      "source": [
        "##1.Use math package -- Extract minimum of 10 functions\n",
        "\n",
        "\n",
        "\n",
        "##2.Use random package -- Extract minimum of 10 functions\n",
        "\n"
      ]
    },
    {
      "cell_type": "markdown",
      "metadata": {
        "id": "JcXQI-TLj-8a",
        "colab_type": "text"
      },
      "source": [
        ""
      ]
    },
    {
      "cell_type": "code",
      "metadata": {
        "id": "TwK9h7FxgyL0",
        "colab_type": "code",
        "colab": {
          "base_uri": "https://localhost:8080/",
          "height": 34
        },
        "outputId": "7685712b-8494-4095-be00-f4ad223348f2"
      },
      "source": [
        "# returning the ceil of 2.3 \n",
        "import math\n",
        "a = 2.3\n",
        "print (\"The ceil of 2.3 is : \", end=\"\") \n",
        "print (math.ceil(a))"
      ],
      "execution_count": 76,
      "outputs": [
        {
          "output_type": "stream",
          "text": [
            "The ceil of 2.3 is : 3\n"
          ],
          "name": "stdout"
        }
      ]
    },
    {
      "cell_type": "code",
      "metadata": {
        "id": "reLsSu7WhH1P",
        "colab_type": "code",
        "colab": {
          "base_uri": "https://localhost:8080/",
          "height": 34
        },
        "outputId": "55c5fa70-59dc-432e-ba3a-c185c124983f"
      },
      "source": [
        "# returning the floor of 2.3\n",
        "import math \n",
        "a = 2.3\n",
        "print (\"The floor of 2.3 is : \", end=\"\") \n",
        "print (math.floor(a)) \n"
      ],
      "execution_count": 77,
      "outputs": [
        {
          "output_type": "stream",
          "text": [
            "The floor of 2.3 is : 2\n"
          ],
          "name": "stdout"
        }
      ]
    },
    {
      "cell_type": "code",
      "metadata": {
        "id": "qzuG5vKLhHqE",
        "colab_type": "code",
        "colab": {
          "base_uri": "https://localhost:8080/",
          "height": 34
        },
        "outputId": "668215ae-630d-4b17-c0f3-53558a15bbd4"
      },
      "source": [
        "#returning the absolute value\n",
        "import math \n",
        "a = -15\n",
        "print (\"The absolute value of -15 is : \", end=\"\") \n",
        "print (math.fabs(a)) \n"
      ],
      "execution_count": 78,
      "outputs": [
        {
          "output_type": "stream",
          "text": [
            "The absolute value of -15 is : 15.0\n"
          ],
          "name": "stdout"
        }
      ]
    },
    {
      "cell_type": "code",
      "metadata": {
        "id": "0BT3I2PdiHdo",
        "colab_type": "code",
        "colab": {
          "base_uri": "https://localhost:8080/",
          "height": 34
        },
        "outputId": "fe9ed9c0-511c-4607-bf1c-362e059a9506"
      },
      "source": [
        "#returning the factorial\n",
        "import math\n",
        "a = 3\n",
        "print(\"the factorial of 3 is : \", end=\" \")\n",
        "print (math.factorial(a))"
      ],
      "execution_count": 79,
      "outputs": [
        {
          "output_type": "stream",
          "text": [
            "the factorial of 3 is :  6\n"
          ],
          "name": "stdout"
        }
      ]
    },
    {
      "cell_type": "code",
      "metadata": {
        "id": "5uRbVyAdiHR_",
        "colab_type": "code",
        "colab": {
          "base_uri": "https://localhost:8080/",
          "height": 34
        },
        "outputId": "0d56efc3-98e4-442f-acfd-83fed62301da"
      },
      "source": [
        "#returning the copysigned value \n",
        "import math\n",
        "a = -2.3\n",
        "b = 99\n",
        "print(\"the factorial of -2.3 and 99 is : \", end=\" \")\n",
        "print(math.copysign(-2.3,99))"
      ],
      "execution_count": 81,
      "outputs": [
        {
          "output_type": "stream",
          "text": [
            "the factorial of -2.3 and 99 is :  2.3\n"
          ],
          "name": "stdout"
        }
      ]
    },
    {
      "cell_type": "code",
      "metadata": {
        "id": "Bq7eQhI6jVTJ",
        "colab_type": "code",
        "colab": {
          "base_uri": "https://localhost:8080/",
          "height": 34
        },
        "outputId": "51c9035d-e210-4617-d29b-8c4edfe03e59"
      },
      "source": [
        "#returning the gcd\n",
        "import math\n",
        "a = 45\n",
        "b = 3\n",
        "print(\"the gcd of 45 and 3 is : \", end=\" \")\n",
        "print(math.gcd(45,3))"
      ],
      "execution_count": 83,
      "outputs": [
        {
          "output_type": "stream",
          "text": [
            "the gcd of 45 and 3 is :  3\n"
          ],
          "name": "stdout"
        }
      ]
    },
    {
      "cell_type": "code",
      "metadata": {
        "id": "ELClTDdYjVHM",
        "colab_type": "code",
        "colab": {
          "base_uri": "https://localhost:8080/",
          "height": 34
        },
        "outputId": "36e76ae7-c79c-4b4a-f163-ad16522eb6c3"
      },
      "source": [
        "import math\n",
        "a = 23\n",
        "print(\"given number is : \", end=\" \")\n",
        "print(math.isfinite(a))"
      ],
      "execution_count": 84,
      "outputs": [
        {
          "output_type": "stream",
          "text": [
            "given number is :  True\n"
          ],
          "name": "stdout"
        }
      ]
    },
    {
      "cell_type": "code",
      "metadata": {
        "id": "_3mbBueNl67P",
        "colab_type": "code",
        "colab": {
          "base_uri": "https://localhost:8080/",
          "height": 34
        },
        "outputId": "eadd29ec-7984-4351-cf6c-afb1782c0a2d"
      },
      "source": [
        "import math\n",
        "a = 3.58\n",
        "print(\"the mod of 3.58 is : \",end=\" \")\n",
        "print(math.modf(a))"
      ],
      "execution_count": 85,
      "outputs": [
        {
          "output_type": "stream",
          "text": [
            "the mod of 3.58 is :  (0.5800000000000001, 3.0)\n"
          ],
          "name": "stdout"
        }
      ]
    },
    {
      "cell_type": "code",
      "metadata": {
        "id": "T-V8OxzymLzy",
        "colab_type": "code",
        "colab": {
          "base_uri": "https://localhost:8080/",
          "height": 34
        },
        "outputId": "1e482545-734f-49d6-be03-8d49d25278c4"
      },
      "source": [
        "import math\n",
        "a = 2.99\n",
        "print(\"the exp of 2.99 is : \",end=\" \")\n",
        "print(math.exp(a))"
      ],
      "execution_count": 86,
      "outputs": [
        {
          "output_type": "stream",
          "text": [
            "the exp of 2.99 is :  19.88568249156473\n"
          ],
          "name": "stdout"
        }
      ]
    },
    {
      "cell_type": "code",
      "metadata": {
        "id": "Jmvot5TVnOfa",
        "colab_type": "code",
        "colab": {}
      },
      "source": [
        ""
      ],
      "execution_count": 0,
      "outputs": []
    }
  ]
}