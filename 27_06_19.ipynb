{
  "nbformat": 4,
  "nbformat_minor": 0,
  "metadata": {
    "colab": {
      "name": "27-06-19.ipynb",
      "version": "0.3.2",
      "provenance": [],
      "collapsed_sections": [],
      "include_colab_link": true
    },
    "kernelspec": {
      "name": "python3",
      "display_name": "Python 3"
    }
  },
  "cells": [
    {
      "cell_type": "markdown",
      "metadata": {
        "id": "view-in-github",
        "colab_type": "text"
      },
      "source": [
        "<a href=\"https://colab.research.google.com/github/Yaswanth-99/python/blob/master/27_06_19.ipynb\" target=\"_parent\"><img src=\"https://colab.research.google.com/assets/colab-badge.svg\" alt=\"Open In Colab\"/></a>"
      ]
    },
    {
      "cell_type": "markdown",
      "metadata": {
        "id": "E5pfUBFhE6yD",
        "colab_type": "text"
      },
      "source": [
        "###File Handling in Python\n",
        "#####File:- Document containing information residing on the permanent storage types -- Doc, Pdf, Text, Csv Files and etc..\n",
        "\n",
        "File I/O: Input and Output\n",
        "                Keyboard as input\n",
        "                \n",
        "                Screen as output\n",
        "                \n",
        "                Read/Write\n",
        "                \n",
        "                open() -- Open the file\n",
        "                close() -- Close the file\n",
        "                \n",
        "                open(filename,'Mode of the file')\n",
        "                \n",
        "'r'  -- It opens file for reading\n",
        "'w' -- The mode open the file writing\n",
        "        If the file name is not present,\n",
        "        it creates a new file and write some data into it\n"
      ]
    },
    {
      "cell_type": "code",
      "metadata": {
        "id": "VsA2KJy0FNWE",
        "colab_type": "code",
        "outputId": "b78bffcb-86a0-4932-80ce-2199e6033fa6",
        "colab": {
          "base_uri": "https://localhost:8080/",
          "height": 34
        }
      },
      "source": [
        "# Function to create a file and write some data\n",
        "def createFile(filename):\n",
        "    f = open(filename,\"w\")\n",
        "    for i in range(10):\n",
        "        f.write(\"This is %d Line\\n\" % i)\n",
        "    print(\"File is created Successfully and Data is written \")\n",
        "    f.close()\n",
        "    return\n",
        "createFile(\"file1.txt\")"
      ],
      "execution_count": 0,
      "outputs": [
        {
          "output_type": "stream",
          "text": [
            "File is created Successfully and Data is written \n"
          ],
          "name": "stdout"
        }
      ]
    },
    {
      "cell_type": "code",
      "metadata": {
        "id": "5tP-FhYEFNUm",
        "colab_type": "code",
        "outputId": "000269ce-ef78-46f4-be77-14bfb2728654",
        "colab": {
          "base_uri": "https://localhost:8080/",
          "height": 204
        }
      },
      "source": [
        "# Function for reading the file data\n",
        "def readFile(filename):\n",
        "    f = open(filename,\"r\")\n",
        "    if f.mode == \"r\":\n",
        "       x = f.read()\n",
        "       print(x)\n",
        "    f.close()\n",
        "    return\n",
        "  \n",
        "readFile(\"file1.txt\")\n",
        "             "
      ],
      "execution_count": 0,
      "outputs": [
        {
          "output_type": "stream",
          "text": [
            "This is 0 Line\n",
            "This is 1 Line\n",
            "This is 2 Line\n",
            "This is 3 Line\n",
            "This is 4 Line\n",
            "This is 5 Line\n",
            "This is 6 Line\n",
            "This is 7 Line\n",
            "This is 8 Line\n",
            "This is 9 Line\n",
            "\n"
          ],
          "name": "stdout"
        }
      ]
    },
    {
      "cell_type": "code",
      "metadata": {
        "id": "QjdhlhT1JXy3",
        "colab_type": "code",
        "colab": {}
      },
      "source": [
        "# data to append \n",
        "# function to append the data to existing file\n",
        "def appendData(filename):\n",
        "    f = open(filename,\"a\")\n",
        "    f.write(\"new Line 1\\n\")\n",
        "    f.write(\"new Line\")\n",
        "    f.close\n",
        "    return\n",
        "appendData(\"file1.txt\")"
      ],
      "execution_count": 0,
      "outputs": []
    },
    {
      "cell_type": "code",
      "metadata": {
        "id": "GKkHCPGjZVdJ",
        "colab_type": "code",
        "outputId": "c761ca44-d011-4d95-b58f-e4c0b225183b",
        "colab": {
          "base_uri": "https://localhost:8080/",
          "height": 221
        }
      },
      "source": [
        "cat file1.txt"
      ],
      "execution_count": 0,
      "outputs": [
        {
          "output_type": "stream",
          "text": [
            "This is 0 Line\n",
            "This is 1 Line\n",
            "This is 2 Line\n",
            "This is 3 Line\n",
            "This is 4 Line\n",
            "This is 5 Line\n",
            "This is 6 Line\n",
            "This is 7 Line\n",
            "This is 8 Line\n",
            "This is 9 Line\n",
            "new Line 1\n",
            "new Line"
          ],
          "name": "stdout"
        }
      ]
    },
    {
      "cell_type": "code",
      "metadata": {
        "id": "UvEJWvRPZhMy",
        "colab_type": "code",
        "outputId": "edfa4e9e-84b5-4d24-c2a6-269550b9a5b5",
        "colab": {
          "base_uri": "https://localhost:8080/",
          "height": 34
        }
      },
      "source": [
        "#word count using file I/O Python\n",
        "def dataanalysiswordcount(filename,word):\n",
        " f=open(filename,'r')\n",
        " if f.mode == 'r':\n",
        "   x=f.read()\n",
        "   lst=x.split()\n",
        " cnt=lst.count(word)\n",
        " return cnt\n",
        "print(dataanalysiswordcount('file1.txt','Line'))\n"
      ],
      "execution_count": 0,
      "outputs": [
        {
          "output_type": "stream",
          "text": [
            "12\n"
          ],
          "name": "stdout"
        }
      ]
    },
    {
      "cell_type": "code",
      "metadata": {
        "id": "49y6OaBSbIvh",
        "colab_type": "code",
        "outputId": "959cb121-670e-4381-be80-d3f94fbc805b",
        "colab": {
          "base_uri": "https://localhost:8080/",
          "height": 34
        }
      },
      "source": [
        "def countcharacter(filename):\n",
        " f=open(filename,'r')\n",
        " if f.mode=='r':\n",
        "   x=f.read()\n",
        "   lst=list(x)\n",
        " return len(lst)\n",
        "print(countcharacter('file1.txt'))"
      ],
      "execution_count": 0,
      "outputs": [
        {
          "output_type": "stream",
          "text": [
            "150\n"
          ],
          "name": "stdout"
        }
      ]
    },
    {
      "cell_type": "code",
      "metadata": {
        "id": "F_ls57fCbIum",
        "colab_type": "code",
        "outputId": "ab4ef1af-971d-4a3a-c21b-30e7b5d9eb9f",
        "colab": {
          "base_uri": "https://localhost:8080/",
          "height": 34
        }
      },
      "source": [
        "#Function to count the upper case character count from the given file\n",
        "def uppercasecount(filename):\n",
        " cntupper=0\n",
        " f=open(filename,'r')\n",
        " if f.mode == 'r':\n",
        "   x=f.read()\n",
        "   lst=list(x)\n",
        " for i in lst:\n",
        "   if i.isupper():\n",
        "     cntupper +=1\n",
        " return cntupper\n",
        "uppercasecount('file1.txt')"
      ],
      "execution_count": 0,
      "outputs": [
        {
          "output_type": "execute_result",
          "data": {
            "text/plain": [
              "20"
            ]
          },
          "metadata": {
            "tags": []
          },
          "execution_count": 9
        }
      ]
    },
    {
      "cell_type": "code",
      "metadata": {
        "id": "vPUGFq7tHRnl",
        "colab_type": "code",
        "outputId": "d710bdb7-2425-40bf-dc23-a5b6f17ed3c5",
        "colab": {
          "base_uri": "https://localhost:8080/",
          "height": 34
        }
      },
      "source": [
        "# Function to count of lines in given file\n",
        "def countlines(filename):\n",
        "  f=open(filename,\"r\")\n",
        "  if f.mode == \"r\":\n",
        "    x=f.read()\n",
        "    lst=x.split(\"\\n\")\n",
        "  return len(lst)\n",
        "\n",
        "countlines(\"file1.txt\")"
      ],
      "execution_count": 0,
      "outputs": [
        {
          "output_type": "execute_result",
          "data": {
            "text/plain": [
              "11"
            ]
          },
          "metadata": {
            "tags": []
          },
          "execution_count": 10
        }
      ]
    },
    {
      "cell_type": "markdown",
      "metadata": {
        "id": "ju9zXW6FHZXF",
        "colab_type": "text"
      },
      "source": [
        "#Regular Expressions\n",
        "\n",
        "\n",
        "\n",
        "\n",
        "*   Pattern Matching\n",
        "*   Symbolic Notation of a pattern\n",
        "   *   pattern(RE) represents the set of the values that a given pattern\n",
        "   \n",
        "*   [0-9]---> Any digit \n",
        "*   [a---z]---> Any lower case character\n",
        "*   [A--Z]---> Any upper case character\n",
        "*   [2468]--> All single digit multiple of 2\n",
        "*   ^[0--9]{1}$-->only single digit number\n",
        "\n",
        "^ symbol is used for start of regular expressions \n",
        "\n",
        "$ is used for end of regular expression\n",
        "\n",
        "\n",
        "*   [a-z]{3}$-->Regular Expression will accept only 3 digit character\n",
        "*   [a-z]{5}$\n",
        "\n",
        "**User name :\n",
        "                              \n",
        "                              *length will be :[6-15]\n",
        "                                \n",
        " 1.no spl characters apart from _\n",
        "                              \n",
        " 2.should not begin and with _\n",
        "                              \n",
        " 3.character set : all digits and lower case alphabets\n",
        "                               \n",
        "**Domain name : \n",
        "                                \n",
        "      1.length of domain : [3,18]\n",
        "                                \n",
        "     2.no spl characters\n",
        "     3.character set : all digits and lower case alphabets \n",
        "\n",
        "**Extension :\n",
        "\n",
        "  1.length of extension : [2,4]\n",
        "                                \n",
        "   2.no spl characters\n",
        "           \n",
        "  3.character set : lower case letters\n",
        "                               "
      ]
    },
    {
      "cell_type": "code",
      "metadata": {
        "id": "K8xoMfd5HbJ2",
        "colab_type": "code",
        "outputId": "62e5663c-d582-49d8-b513-021faecf4015",
        "colab": {
          "base_uri": "https://localhost:8080/",
          "height": 51
        }
      },
      "source": [
        "import re\n",
        "def phoneNumberValidate(phone):\n",
        "    pattern = '^[6-9][0-9]{9}'\n",
        "    phone = str(phone)\n",
        "    if re.match(pattern,phone):\n",
        "        return True\n",
        "    return False\n",
        "print(phoneNumberValidate(9848022338))\n",
        "print(phoneNumberValidate(884548748))"
      ],
      "execution_count": 0,
      "outputs": [
        {
          "output_type": "stream",
          "text": [
            "True\n",
            "False\n"
          ],
          "name": "stdout"
        }
      ]
    },
    {
      "cell_type": "code",
      "metadata": {
        "id": "dkdH1gzRM4nM",
        "colab_type": "code",
        "outputId": "47708529-9728-40a0-e25e-96ab5c0be9d0",
        "colab": {
          "base_uri": "https://localhost:8080/",
          "height": 51
        }
      },
      "source": [
        "import re\n",
        "def phoneNumberValidate(phone):\n",
        "    pattern = '^[6-9][0-9]{9}$|^[0][6-9][0-9]{9}$|^[+][9][1][6-9][0-9]{9}$'\n",
        "    phone = str(phone)\n",
        "    if re.match(pattern,phone):\n",
        "        return True\n",
        "    return False\n",
        "print(phoneNumberValidate('+919848022338'))\n",
        "print(phoneNumberValidate('08845487480'))"
      ],
      "execution_count": 0,
      "outputs": [
        {
          "output_type": "stream",
          "text": [
            "True\n",
            "True\n"
          ],
          "name": "stdout"
        }
      ]
    },
    {
      "cell_type": "code",
      "metadata": {
        "id": "Pc2r7o4MOp6d",
        "colab_type": "code",
        "outputId": "c12d1e8f-3c55-4e0b-9db2-e5e67db9b299",
        "colab": {
          "base_uri": "https://localhost:8080/",
          "height": 51
        }
      },
      "source": [
        "# RE - validation of roll number \n",
        "#\n",
        "import re \n",
        "def validateRollnumber(number):\n",
        "    number = str(number)\n",
        "    pattern = \"^[1][5][2][U][1][A][0][1-9][0-6][0-9]$\";\n",
        "    if re.match(pattern,number):\n",
        "        return True\n",
        "    return False\n",
        "print(validateRollnumber(\"152U1A0555\"))\n",
        "print(validateRollnumber(\"152U1A0485\"))"
      ],
      "execution_count": 0,
      "outputs": [
        {
          "output_type": "stream",
          "text": [
            "True\n",
            "False\n"
          ],
          "name": "stdout"
        }
      ]
    },
    {
      "cell_type": "code",
      "metadata": {
        "id": "8GcpD5e-Op8g",
        "colab_type": "code",
        "outputId": "eec8ab8a-4253-4159-e920-465929dea562",
        "colab": {
          "base_uri": "https://localhost:8080/",
          "height": 52
        }
      },
      "source": [
        "# validation for EmailID Username@Domainname.extension\n",
        "import re \n",
        "def validateEmailID(email):\n",
        "    pattern = \"^[0-9a-z][0-9a-z_.]{4,13}[0-9a-z][@][a-z0-9]{3,18}[.][a-z]{2,4}$\"\n",
        "    if re.match(pattern,email):\n",
        "        return True\n",
        "    return False\n",
        "print(validateEmailID(\"yashu.15@gmail.com\"))\n",
        "print(validateEmailID(\"$yash.99@gmail.com\"))\n",
        "     "
      ],
      "execution_count": 0,
      "outputs": [
        {
          "output_type": "stream",
          "text": [
            "True\n",
            "False\n"
          ],
          "name": "stdout"
        }
      ]
    },
    {
      "cell_type": "code",
      "metadata": {
        "id": "r4HxvjVXW6Il",
        "colab_type": "code",
        "colab": {}
      },
      "source": [
        "# regular expression --password\n",
        "# parameters : [6-15]\n",
        "# accept lower case, uppercase, spl symbols(@,$,#,!)"
      ],
      "execution_count": 0,
      "outputs": []
    },
    {
      "cell_type": "code",
      "metadata": {
        "id": "_I9snZFwYO2h",
        "colab_type": "code",
        "outputId": "686cec7d-2574-4a42-d1e3-60bec09d4c4b",
        "colab": {
          "base_uri": "https://localhost:8080/",
          "height": 52
        }
      },
      "source": [
        "# validation for password \n",
        "import re \n",
        "def validatepassword(password):\n",
        "    pattern = \"^[a-zA-Z0-9!@#$]{6,15}$\"\n",
        "    if re.match(pattern,password):\n",
        "        return True\n",
        "    return False\n",
        "print(validatepassword(\"yagfwt887^\"))\n",
        "print(validatepassword(\"yash@4545\"))"
      ],
      "execution_count": 0,
      "outputs": [
        {
          "output_type": "stream",
          "text": [
            "False\n",
            "True\n"
          ],
          "name": "stdout"
        }
      ]
    },
    {
      "cell_type": "markdown",
      "metadata": {
        "id": "RFXO2BD8lIGn",
        "colab_type": "text"
      },
      "source": [
        "## Assignment\n",
        "1. file on the virtual machine or local machine\n",
        "2.  need to write the data to the file\n",
        "3. need to count the count of lower case characters\n",
        "4. need to return the count of digits\n",
        "5. need  to return the count of special characters\n",
        "6. need to create a file withthese parameters name, email id ,mobile number \n",
        "validate the email id \n",
        "validate the mobile number\n"
      ]
    },
    {
      "cell_type": "code",
      "metadata": {
        "id": "1l5rSw2GmuIy",
        "colab_type": "code",
        "outputId": "b8a585ae-a495-4f1a-ea81-e7c0236cac1f",
        "colab": {
          "base_uri": "https://localhost:8080/",
          "height": 35
        }
      },
      "source": [
        "def createfile(filename):\n",
        "   f = open(filename,\"w\");\n",
        "   for i in range(10):\n",
        "      f.write(\"this is %d time i played cricket\"%i);\n",
        "   print(\"file is created successfully and data is written\");\n",
        "   f.close()\n",
        "   return;\n",
        "createfile(\"file2.txt\")\n",
        "    "
      ],
      "execution_count": 0,
      "outputs": [
        {
          "output_type": "stream",
          "text": [
            "file is created successfully and data is written\n"
          ],
          "name": "stdout"
        }
      ]
    },
    {
      "cell_type": "code",
      "metadata": {
        "id": "gkg0uk1popVf",
        "colab_type": "code",
        "outputId": "ed7d1280-9d41-42a2-e69f-ee7b4e4f4e81",
        "colab": {
          "base_uri": "https://localhost:8080/",
          "height": 35
        }
      },
      "source": [
        "ls\n"
      ],
      "execution_count": 0,
      "outputs": [
        {
          "output_type": "stream",
          "text": [
            "file1.txt  file2.txt  \u001b[0m\u001b[01;34msample_data\u001b[0m/\n"
          ],
          "name": "stdout"
        }
      ]
    },
    {
      "cell_type": "code",
      "metadata": {
        "id": "1JRilIA2q6SQ",
        "colab_type": "code",
        "outputId": "07ab30ce-64f3-4b89-8c19-0b7db5a09ba4",
        "colab": {
          "base_uri": "https://localhost:8080/",
          "height": 55
        }
      },
      "source": [
        "def readfile(filename):\n",
        "   f = open(filename,\"r\");\n",
        "   if f.mode==\"r\":\n",
        "     x = f.read();\n",
        "     print(x,end= \" \");\n",
        "   f.close()\n",
        "   return\n",
        "readfile(\"file2.txt\")\n",
        "    "
      ],
      "execution_count": 0,
      "outputs": [
        {
          "output_type": "stream",
          "text": [
            "this is 0 time i played cricketthis is 1 time i played cricketthis is 2 time i played cricketthis is 3 time i played cricketthis is 4 time i played cricketthis is 5 time i played cricketthis is 6 time i played cricketthis is 7 time i played cricketthis is 8 time i played cricketthis is 9 time i played cricket "
          ],
          "name": "stdout"
        }
      ]
    },
    {
      "cell_type": "code",
      "metadata": {
        "id": "W48aNWhjslxh",
        "colab_type": "code",
        "colab": {}
      },
      "source": [
        ""
      ],
      "execution_count": 0,
      "outputs": []
    }
  ]
}