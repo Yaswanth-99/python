{
  "nbformat": 4,
  "nbformat_minor": 0,
  "metadata": {
    "colab": {
      "name": "Copy of Welcome To Colaboratory",
      "version": "0.3.2",
      "provenance": [],
      "collapsed_sections": [],
      "toc_visible": true,
      "include_colab_link": true
    },
    "kernelspec": {
      "display_name": "Python 3",
      "name": "python3"
    }
  },
  "cells": [
    {
      "cell_type": "markdown",
      "metadata": {
        "id": "view-in-github",
        "colab_type": "text"
      },
      "source": [
        "<a href=\"https://colab.research.google.com/github/Yaswanth-99/python/blob/master/Copy_of_Welcome_To_Colaboratory.ipynb\" target=\"_parent\"><img src=\"https://colab.research.google.com/assets/colab-badge.svg\" alt=\"Open In Colab\"/></a>"
      ]
    },
    {
      "cell_type": "markdown",
      "metadata": {
        "id": "kLaVNZll5CDd",
        "colab_type": "text"
      },
      "source": [
        "#STRING FUNCTION"
      ]
    },
    {
      "cell_type": "code",
      "metadata": {
        "id": "rzjgj1NN5HSm",
        "colab_type": "code",
        "outputId": "0866b859-7dc2-46bd-9b14-0a6e60df8640",
        "colab": {
          "base_uri": "https://localhost:8080/",
          "height": 51
        }
      },
      "source": [
        "str=(\"Anil\")\n",
        "print(str.upper())\n",
        "print(str.lower())"
      ],
      "execution_count": 0,
      "outputs": [
        {
          "output_type": "stream",
          "text": [
            "ANIL\n",
            "anil\n"
          ],
          "name": "stdout"
        }
      ]
    },
    {
      "cell_type": "code",
      "metadata": {
        "id": "vkAXsaVg54rE",
        "colab_type": "code",
        "outputId": "acc2f5c1-ffa0-4841-bb42-0deea8aaad66",
        "colab": {
          "base_uri": "https://localhost:8080/",
          "height": 51
        }
      },
      "source": [
        "s='Python is Easy to learn'\n",
        "s1='python'\n",
        "print(s.islower())\n",
        "print(s1.islower())"
      ],
      "execution_count": 0,
      "outputs": [
        {
          "output_type": "stream",
          "text": [
            "False\n",
            "True\n"
          ],
          "name": "stdout"
        }
      ]
    },
    {
      "cell_type": "code",
      "metadata": {
        "id": "eatqnwFs6Hjv",
        "colab_type": "code",
        "outputId": "aec051cf-9959-4f28-e4be-80b3faaf2439",
        "colab": {
          "base_uri": "https://localhost:8080/",
          "height": 34
        }
      },
      "source": [
        "s='PYTHON'\n",
        "print(s.isupper())"
      ],
      "execution_count": 0,
      "outputs": [
        {
          "output_type": "stream",
          "text": [
            "True\n"
          ],
          "name": "stdout"
        }
      ]
    },
    {
      "cell_type": "code",
      "metadata": {
        "id": "5yfOsavF7Nyi",
        "colab_type": "code",
        "outputId": "8d5746a9-0960-4ebd-b537-c1e31e92601c",
        "colab": {
          "base_uri": "https://localhost:8080/",
          "height": 51
        }
      },
      "source": [
        "s='alphabet'\n",
        "s1='6'\n",
        "print(s.isnumeric())\n",
        "print(s1.isnumeric())"
      ],
      "execution_count": 0,
      "outputs": [
        {
          "output_type": "stream",
          "text": [
            "False\n",
            "True\n"
          ],
          "name": "stdout"
        }
      ]
    },
    {
      "cell_type": "code",
      "metadata": {
        "id": "qVdAbNJ975gP",
        "colab_type": "code",
        "outputId": "37588bef-b4f5-4b1c-a7c3-7d3cbe33e38b",
        "colab": {
          "base_uri": "https://localhost:8080/",
          "height": 51
        }
      },
      "source": [
        "s='alphabet'\n",
        "s1='alpha223'\n",
        "print(s.isalpha())\n",
        "print(s1.isalpha())"
      ],
      "execution_count": 0,
      "outputs": [
        {
          "output_type": "stream",
          "text": [
            "True\n",
            "False\n"
          ],
          "name": "stdout"
        }
      ]
    },
    {
      "cell_type": "code",
      "metadata": {
        "id": "QNU8VtPg8uWH",
        "colab_type": "code",
        "outputId": "5eaa2b17-bb8b-4653-9d15-a4451b2107ad",
        "colab": {
          "base_uri": "https://localhost:8080/",
          "height": 34
        }
      },
      "source": [
        "s=\"Python\"\n",
        "print(s.istitle())"
      ],
      "execution_count": 0,
      "outputs": [
        {
          "output_type": "stream",
          "text": [
            "True\n"
          ],
          "name": "stdout"
        }
      ]
    },
    {
      "cell_type": "code",
      "metadata": {
        "id": "cpre_f7s-3Jj",
        "colab_type": "code",
        "outputId": "93337944-5801-4e03-a888-09709719f9d5",
        "colab": {
          "base_uri": "https://localhost:8080/",
          "height": 34
        }
      },
      "source": [
        "s='python'\n",
        "print(\" \".join(s))"
      ],
      "execution_count": 0,
      "outputs": [
        {
          "output_type": "stream",
          "text": [
            "p y t h o n\n"
          ],
          "name": "stdout"
        }
      ]
    },
    {
      "cell_type": "code",
      "metadata": {
        "id": "krW8XWmg_xxo",
        "colab_type": "code",
        "outputId": "6ccab17d-60c5-4a0e-86df-dc2004a7d936",
        "colab": {
          "base_uri": "https://localhost:8080/",
          "height": 34
        }
      },
      "source": [
        "s='python'\n",
        "print(\",\".join(s))"
      ],
      "execution_count": 0,
      "outputs": [
        {
          "output_type": "stream",
          "text": [
            "p,y,t,h,o,n\n"
          ],
          "name": "stdout"
        }
      ]
    },
    {
      "cell_type": "code",
      "metadata": {
        "id": "b0-YcqBRAchJ",
        "colab_type": "code",
        "outputId": "e2d9bbf8-a2b9-4d96-ac68-13a6a2b8d328",
        "colab": {
          "base_uri": "https://localhost:8080/",
          "height": 34
        }
      },
      "source": [
        "s='python is an easy programming language'\n",
        "print(s.split())"
      ],
      "execution_count": 0,
      "outputs": [
        {
          "output_type": "stream",
          "text": [
            "['python', 'is', 'an', 'easy', 'programming', 'language']\n"
          ],
          "name": "stdout"
        }
      ]
    },
    {
      "cell_type": "code",
      "metadata": {
        "id": "3Ljw-NA1C66l",
        "colab_type": "code",
        "outputId": "d84e3620-eae7-43ea-bcf2-9cbefff05316",
        "colab": {
          "base_uri": "https://localhost:8080/",
          "height": 51
        }
      },
      "source": [
        "s=\"python is easy\"\n",
        "lst=s.split()\n",
        "print(lst)\n",
        "print(lst.index('is'))"
      ],
      "execution_count": 0,
      "outputs": [
        {
          "output_type": "stream",
          "text": [
            "['python', 'is', 'easy']\n",
            "1\n"
          ],
          "name": "stdout"
        }
      ]
    },
    {
      "cell_type": "code",
      "metadata": {
        "id": "Ob4F5znJE-BA",
        "colab_type": "code",
        "outputId": "e590ff0b-c28a-4434-982c-5dac3973bc9b",
        "colab": {
          "base_uri": "https://localhost:8080/",
          "height": 34
        }
      },
      "source": [
        "s=\"python\"\n",
        "print(s.replace(\"on\",\"app\"))"
      ],
      "execution_count": 0,
      "outputs": [
        {
          "output_type": "stream",
          "text": [
            "pythapp\n"
          ],
          "name": "stdout"
        }
      ]
    },
    {
      "cell_type": "code",
      "metadata": {
        "id": "bUxmipbOM1Gz",
        "colab_type": "code",
        "outputId": "e6b7fcee-8686-455e-9785-32c38388a476",
        "colab": {
          "base_uri": "https://localhost:8080/",
          "height": 51
        }
      },
      "source": [
        "s=('python','program','june',1982)\n",
        "print(s)\n",
        "print(\"s[-1]=\",s[-1])"
      ],
      "execution_count": 0,
      "outputs": [
        {
          "output_type": "stream",
          "text": [
            "('python', 'program', 'june', 1982)\n",
            "s[-1]= 1982\n"
          ],
          "name": "stdout"
        }
      ]
    },
    {
      "cell_type": "code",
      "metadata": {
        "id": "cGtlvIlnN7zi",
        "colab_type": "code",
        "outputId": "0b51966c-993f-432d-bc12-7472846f1cd7",
        "colab": {
          "base_uri": "https://localhost:8080/",
          "height": 34
        }
      },
      "source": [
        "s=(\"programming\",\"easy\")\n",
        "s1=(\"145\",\"256\")\n",
        "print(s+s1)"
      ],
      "execution_count": 0,
      "outputs": [
        {
          "output_type": "stream",
          "text": [
            "('programming', 'easy', '145', '256')\n"
          ],
          "name": "stdout"
        }
      ]
    },
    {
      "cell_type": "code",
      "metadata": {
        "id": "lAXna8DrRodS",
        "colab_type": "code",
        "outputId": "6bccf5bc-fe2a-4cd4-c377-a613ee8296cd",
        "colab": {
          "base_uri": "https://localhost:8080/",
          "height": 51
        }
      },
      "source": [
        "t1=(\"1\",\"2\",\"3\",\"r\",\"z\")\n",
        "print(max(t1))\n",
        "print(min(t1))"
      ],
      "execution_count": 0,
      "outputs": [
        {
          "output_type": "stream",
          "text": [
            "z\n",
            "1\n"
          ],
          "name": "stdout"
        }
      ]
    },
    {
      "cell_type": "markdown",
      "metadata": {
        "id": "O80RTBjvUD54",
        "colab_type": "text"
      },
      "source": [
        ""
      ]
    },
    {
      "cell_type": "code",
      "metadata": {
        "id": "YDAMrHL9TTXF",
        "colab_type": "code",
        "outputId": "fe234429-ca1f-4f79-a631-0f650422bc52",
        "colab": {
          "base_uri": "https://localhost:8080/",
          "height": 51
        }
      },
      "source": [
        "lst=[\"program\",\"file\",1952]\n",
        "print(lst)\n",
        "tuple1=tuple(lst)\n",
        "print(tuple1)"
      ],
      "execution_count": 0,
      "outputs": [
        {
          "output_type": "stream",
          "text": [
            "['program', 'file', 1952]\n",
            "('program', 'file', 1952)\n"
          ],
          "name": "stdout"
        }
      ]
    }
  ]
}