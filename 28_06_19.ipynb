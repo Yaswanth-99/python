{
  "nbformat": 4,
  "nbformat_minor": 0,
  "metadata": {
    "colab": {
      "name": "28-06-19.ipynb",
      "version": "0.3.2",
      "provenance": [],
      "collapsed_sections": [],
      "include_colab_link": true
    },
    "kernelspec": {
      "name": "python3",
      "display_name": "Python 3"
    }
  },
  "cells": [
    {
      "cell_type": "markdown",
      "metadata": {
        "id": "view-in-github",
        "colab_type": "text"
      },
      "source": [
        "<a href=\"https://colab.research.google.com/github/Yaswanth-99/python/blob/master/28_06_19.ipynb\" target=\"_parent\"><img src=\"https://colab.research.google.com/assets/colab-badge.svg\" alt=\"Open In Colab\"/></a>"
      ]
    },
    {
      "cell_type": "markdown",
      "metadata": {
        "id": "NUGj1l9SKV6k",
        "colab_type": "text"
      },
      "source": [
        " "
      ]
    },
    {
      "cell_type": "code",
      "metadata": {
        "id": "abaA3l53Q2G8",
        "colab_type": "code",
        "outputId": "c707d812-5212-443b-e664-7d703b6bcd2c",
        "colab": {
          "base_uri": "https://localhost:8080/",
          "height": 34
        }
      },
      "source": [
        "def test():\n",
        "    print('Test() for function')\n",
        "    return\n",
        "test()"
      ],
      "execution_count": 0,
      "outputs": [
        {
          "output_type": "stream",
          "text": [
            "Test() for function\n"
          ],
          "name": "stdout"
        }
      ]
    },
    {
      "cell_type": "code",
      "metadata": {
        "id": "29cHeKTtQaOG",
        "colab_type": "code",
        "outputId": "646af76e-f52a-46d3-f406-df9030215b89",
        "colab": {
          "base_uri": "https://localhost:8080/",
          "height": 34
        }
      },
      "source": [
        "class Demo:\n",
        "  def test(self):\n",
        "      print(\"test() for class and method\")\n",
        "      return\n",
        "   \n",
        "obj = Demo()\n",
        "obj.test()"
      ],
      "execution_count": 0,
      "outputs": [
        {
          "output_type": "stream",
          "text": [
            "test() for class and method\n"
          ],
          "name": "stdout"
        }
      ]
    },
    {
      "cell_type": "code",
      "metadata": {
        "id": "nrhpZ8P0R_lS",
        "colab_type": "code",
        "outputId": "2591bff7-e668-4170-9e70-a71bfe138f09",
        "colab": {
          "base_uri": "https://localhost:8080/",
          "height": 34
        }
      },
      "source": [
        "class Demo1:\n",
        "    def fact(self,n):\n",
        "        #return the factorial\n",
        "        fact = 1\n",
        "        while(n!=0):\n",
        "             fact = fact*n;\n",
        "             n = n - 1\n",
        "        return fact\n",
        "     \n",
        "p1 = Demo1()\n",
        "print(p1.fact(5))#120"
      ],
      "execution_count": 0,
      "outputs": [
        {
          "output_type": "stream",
          "text": [
            "120\n"
          ],
          "name": "stdout"
        }
      ]
    },
    {
      "cell_type": "code",
      "metadata": {
        "id": "x79oTe4z6QIY",
        "colab_type": "code",
        "colab": {}
      },
      "source": [
        "class demo2:\n",
        "  def accept(self,n1,n2):\n",
        "    a=n1;\n",
        "    b=n2;\n",
        "    return;\n",
        "  def display(self):\n",
        "    print(\"a= \",a);\n",
        "    print(\"b= \",b);\n",
        "c1=demo2();\n",
        "c1.display()"
      ],
      "execution_count": 0,
      "outputs": []
    },
    {
      "cell_type": "code",
      "metadata": {
        "id": "aGDGOtvi7xmv",
        "colab_type": "code",
        "outputId": "218cbee9-456a-4718-f550-0406f4033fff",
        "colab": {
          "base_uri": "https://localhost:8080/",
          "height": 34
        }
      },
      "source": [
        "import numpy as np\n",
        "lst={1,2,3,4,5}\n",
        "array=np.array(lst);\n",
        "print(array)"
      ],
      "execution_count": 0,
      "outputs": [
        {
          "output_type": "stream",
          "text": [
            "{1, 2, 3, 4, 5}\n"
          ],
          "name": "stdout"
        }
      ]
    },
    {
      "cell_type": "code",
      "metadata": {
        "id": "CV8bmuv7dDeH",
        "colab_type": "code",
        "colab": {}
      },
      "source": [
        ""
      ],
      "execution_count": 0,
      "outputs": []
    },
    {
      "cell_type": "code",
      "metadata": {
        "id": "6F6MvLKW74F9",
        "colab_type": "code",
        "outputId": "a00608fe-9832-4efa-d74c-0e70456e8655",
        "colab": {
          "base_uri": "https://localhost:8080/",
          "height": 50
        }
      },
      "source": [
        "lst=(1,2,3,4)\n",
        "array=np.array(lst)\n",
        "print(array.shape)\n",
        "print(array.dtype)"
      ],
      "execution_count": 0,
      "outputs": [
        {
          "output_type": "stream",
          "text": [
            "(4,)\n",
            "int64\n"
          ],
          "name": "stdout"
        }
      ]
    },
    {
      "cell_type": "code",
      "metadata": {
        "id": "hIcGVEOq7-b1",
        "colab_type": "code",
        "outputId": "343e5811-839a-4681-f8f7-975df2d78a5c",
        "colab": {
          "base_uri": "https://localhost:8080/",
          "height": 101
        }
      },
      "source": [
        "#reshape trhe given array\n",
        "a1=np.array([(1,2,3),(4,5,6)])\n",
        "print(a1)\n",
        "a1.reshape(3,2)"
      ],
      "execution_count": 0,
      "outputs": [
        {
          "output_type": "stream",
          "text": [
            "[[1 2 3]\n",
            " [4 5 6]]\n"
          ],
          "name": "stdout"
        },
        {
          "output_type": "execute_result",
          "data": {
            "text/plain": [
              "array([[1, 2],\n",
              "       [3, 4],\n",
              "       [5, 6]])"
            ]
          },
          "metadata": {
            "tags": []
          },
          "execution_count": 12
        }
      ]
    },
    {
      "cell_type": "code",
      "metadata": {
        "id": "j83hGp_-7_tN",
        "colab_type": "code",
        "outputId": "26c3e7ad-a161-45e2-8b43-99ae38f37c3c",
        "colab": {
          "base_uri": "https://localhost:8080/",
          "height": 34
        }
      },
      "source": [
        "a1=np.array([1,2,3])\n",
        "a2=np.array([1,2,3])\n",
        "print(np.hstack((a1,a2)))"
      ],
      "execution_count": 0,
      "outputs": [
        {
          "output_type": "stream",
          "text": [
            "[1 2 3 1 2 3]\n"
          ],
          "name": "stdout"
        }
      ]
    },
    {
      "cell_type": "code",
      "metadata": {
        "id": "ZUt0BOqR8DBE",
        "colab_type": "code",
        "outputId": "6152a4a3-9088-4540-e9e4-1149568ca6e7",
        "colab": {
          "base_uri": "https://localhost:8080/",
          "height": 50
        }
      },
      "source": [
        "a1=np.array([1,2,3])\n",
        "a2=np.array([1,2,3])\n",
        "print(np.vstack((a1,a2)))"
      ],
      "execution_count": 0,
      "outputs": [
        {
          "output_type": "stream",
          "text": [
            "[[1 2 3]\n",
            " [1 2 3]]\n"
          ],
          "name": "stdout"
        }
      ]
    },
    {
      "cell_type": "code",
      "metadata": {
        "id": "0wyu4bM58DHN",
        "colab_type": "code",
        "outputId": "32469f35-c3a3-48f3-df6a-ad878c41ca79",
        "colab": {
          "base_uri": "https://localhost:8080/",
          "height": 50
        }
      },
      "source": [
        "a1=np.random.normal(5,0.5,10)\n",
        "print(a1)"
      ],
      "execution_count": 0,
      "outputs": [
        {
          "output_type": "stream",
          "text": [
            "[5.52512875 5.0517236  5.32790972 4.86929842 4.80469782 4.94242909\n",
            " 5.36301625 5.44919138 4.59723092 5.11836241]\n"
          ],
          "name": "stdout"
        }
      ]
    },
    {
      "cell_type": "code",
      "metadata": {
        "id": "BY_Ko0La8DEe",
        "colab_type": "code",
        "outputId": "5cd952d3-022e-4470-9314-0014f3ec086f",
        "colab": {
          "base_uri": "https://localhost:8080/",
          "height": 50
        }
      },
      "source": [
        "np.zeros((2,2))"
      ],
      "execution_count": 0,
      "outputs": [
        {
          "output_type": "execute_result",
          "data": {
            "text/plain": [
              "array([[0., 0.],\n",
              "       [0., 0.]])"
            ]
          },
          "metadata": {
            "tags": []
          },
          "execution_count": 16
        }
      ]
    },
    {
      "cell_type": "code",
      "metadata": {
        "id": "eqB3eVn9-Xx7",
        "colab_type": "code",
        "outputId": "78053874-40d3-42b3-a763-1f758e0b7b06",
        "colab": {
          "base_uri": "https://localhost:8080/",
          "height": 84
        }
      },
      "source": [
        "A=np.matrix(np.ones((4,4),dtype=np.int64))\n",
        "print(A)"
      ],
      "execution_count": 0,
      "outputs": [
        {
          "output_type": "stream",
          "text": [
            "[[1 1 1 1]\n",
            " [1 1 1 1]\n",
            " [1 1 1 1]\n",
            " [1 1 1 1]]\n"
          ],
          "name": "stdout"
        }
      ]
    },
    {
      "cell_type": "code",
      "metadata": {
        "id": "HrVzzoXE-YHA",
        "colab_type": "code",
        "outputId": "bce0eaba-e764-4b75-c964-4be92ae2fae2",
        "colab": {
          "base_uri": "https://localhost:8080/",
          "height": 84
        }
      },
      "source": [
        "A=np.matrix(np.ones((4,4),dtype=np.int64))\n",
        "np.asarray(A)[2]=5\n",
        "print(A)"
      ],
      "execution_count": 0,
      "outputs": [
        {
          "output_type": "stream",
          "text": [
            "[[1 1 1 1]\n",
            " [1 1 1 1]\n",
            " [5 5 5 5]\n",
            " [1 1 1 1]]\n"
          ],
          "name": "stdout"
        }
      ]
    },
    {
      "cell_type": "code",
      "metadata": {
        "id": "ZcQRrE1r-YDp",
        "colab_type": "code",
        "colab": {}
      },
      "source": [
        "01                           "
      ],
      "execution_count": 0,
      "outputs": []
    },
    {
      "cell_type": "code",
      "metadata": {
        "id": "EwwWRsFl-X__",
        "colab_type": "code",
        "colab": {}
      },
      "source": [
        ""
      ],
      "execution_count": 0,
      "outputs": []
    }
  ]
}