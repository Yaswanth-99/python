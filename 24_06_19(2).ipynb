{
  "nbformat": 4,
  "nbformat_minor": 0,
  "metadata": {
    "colab": {
      "name": "24-06-19(2).ipynb",
      "version": "0.3.2",
      "provenance": [],
      "collapsed_sections": [],
      "include_colab_link": true
    },
    "kernelspec": {
      "name": "python3",
      "display_name": "Python 3"
    }
  },
  "cells": [
    {
      "cell_type": "markdown",
      "metadata": {
        "id": "view-in-github",
        "colab_type": "text"
      },
      "source": [
        "<a href=\"https://colab.research.google.com/github/Yaswanth-99/python/blob/master/24_06_19(2).ipynb\" target=\"_parent\"><img src=\"https://colab.research.google.com/assets/colab-badge.svg\" alt=\"Open In Colab\"/></a>"
      ]
    },
    {
      "cell_type": "markdown",
      "metadata": {
        "id": "DJ3_wvQlSqwU",
        "colab_type": "text"
      },
      "source": [
        "# Searching the  data\n",
        "                                 ####linear search\n",
        "                                 ####binary search\n",
        "                                 \n",
        "                                 "
      ]
    },
    {
      "cell_type": "markdown",
      "metadata": {
        "id": "xBTfy8s6S_HZ",
        "colab_type": "text"
      },
      "source": [
        "\n",
        "## Linear search\n",
        "this can be applied on sorted/unsorted list\n",
        "this can be applied on unique/duplicate list"
      ]
    },
    {
      "cell_type": "code",
      "metadata": {
        "id": "MzEdlauMTIYQ",
        "colab_type": "code",
        "outputId": "8798daba-53db-40b1-ada4-40b5edcb854f",
        "colab": {
          "base_uri": "https://localhost:8080/",
          "height": 35
        }
      },
      "source": [
        "def linearsearch(a,taritem):\n",
        "  flag = 0;\n",
        "  for i in range(len(a)):\n",
        "    if a[i]==taritem:\n",
        "      flag=1;\n",
        "      break\n",
        "  if(flag!=0):\n",
        "      print(\"target item is  found\")\n",
        "  else:\n",
        "      print(\"target item is not found\")\n",
        "a = [16,2,12,6,9,7,1]\n",
        "linearsearch(a,61)\n",
        "      "
      ],
      "execution_count": 0,
      "outputs": [
        {
          "output_type": "stream",
          "text": [
            "target item is not found\n"
          ],
          "name": "stdout"
        }
      ]
    },
    {
      "cell_type": "code",
      "metadata": {
        "id": "BPT2NgLQTIWo",
        "colab_type": "code",
        "outputId": "aecf8952-8843-43c3-de9c-af1eda75b3a0",
        "colab": {
          "base_uri": "https://localhost:8080/",
          "height": 35
        }
      },
      "source": [
        "def linearSearchDuplicate(a,taritem):\n",
        "  flag=0;\n",
        "  for i in range(len(a)):\n",
        "      if a[i] == taritem:\n",
        "        flag=flag+1\n",
        "        \n",
        "  print(flag)\n",
        "\n",
        "a = [9,1,6,1,5,9,15,16] \n",
        "linearSearchDuplicate(a,9)"
      ],
      "execution_count": 0,
      "outputs": [
        {
          "output_type": "stream",
          "text": [
            "2\n"
          ],
          "name": "stdout"
        }
      ]
    },
    {
      "cell_type": "markdown",
      "metadata": {
        "id": "S7lL7_PRqnD-",
        "colab_type": "text"
      },
      "source": [
        "# Linear search examples\n",
        "\n",
        "## #example 1\n",
        "  \n",
        "  input : list \n",
        "  \n",
        "  output : indexes of target item\n",
        "  \n",
        "  \n",
        "  Test cases : [1,5,9,6,15,12,5], tar=5-----1 4 7"
      ]
    },
    {
      "cell_type": "code",
      "metadata": {
        "id": "Fib7RdHgrxzr",
        "colab_type": "code",
        "outputId": "20cf8088-ad23-4dd9-bef6-f4647a98942d",
        "colab": {
          "base_uri": "https://localhost:8080/",
          "height": 69
        }
      },
      "source": [
        "def LinearExample1(a,taritem):\n",
        "  flag=0\n",
        "  for i in range(len(a)):\n",
        "    if a[i]=taritem:\n",
        "      flag=i\n",
        "      print(flag)\n",
        "   \n",
        "    \n",
        "    \n",
        "  a=[1,5,9,6,5,15,12,5]\n",
        "LinearExample1(a,5) # 1  4  7    \n",
        "    "
      ],
      "execution_count": 0,
      "outputs": [
        {
          "output_type": "stream",
          "text": [
            "1\n",
            "4\n",
            "7\n"
          ],
          "name": "stdout"
        }
      ]
    },
    {
      "cell_type": "markdown",
      "metadata": {
        "id": "lElaIBtfwSFf",
        "colab_type": "text"
      },
      "source": [
        "# example 2 \n",
        "input : list\n",
        "  \n",
        "  output : a sequence of characters\n",
        "   \n",
        "  Test Cases: [1,5,9,6,5,15,12,5], tar= 5 ----- !! !!!!! !!!!!!!!\n"
      ]
    },
    {
      "cell_type": "code",
      "metadata": {
        "id": "1o32LKU_w7EC",
        "colab_type": "code",
        "outputId": "907d5fe8-3e7d-4d18-a95f-b7fed75cb9cf",
        "colab": {
          "base_uri": "https://localhost:8080/",
          "height": 35
        }
      },
      "source": [
        "def linearexample2(a,taritem):\n",
        "  flag=0\n",
        "  for i in range(len(a)):\n",
        "    if a[i]==taritem:\n",
        "     while(flag<=i):\n",
        "        print('!', end = '')\n",
        "        flag+=1\n",
        "    print(end = ' ')\n",
        "    flag=0\n",
        "   \n",
        "  a=[1,5,9,6,5,15,12,5]\n",
        "linearexample2(a,5)"
      ],
      "execution_count": 0,
      "outputs": [
        {
          "output_type": "stream",
          "text": [
            " !!   !!!!!   !!!!!!!! "
          ],
          "name": "stdout"
        }
      ]
    },
    {
      "cell_type": "markdown",
      "metadata": {
        "id": "RNve33o5yGNv",
        "colab_type": "text"
      },
      "source": [
        "#### linear search example 3 \n",
        "\n",
        "input : list \n",
        "\n",
        "output : as per the given \n",
        "\n",
        "\n",
        "test cases :\n",
        "\n",
        "\n",
        "[15,12,9,18,36]  -------- 60\n",
        "\n",
        "\n",
        "a list item should be perfect multiple of 3 and 5 \n",
        "\n",
        "sum of all the list items which is perfect multiple of 3 and 5 "
      ]
    },
    {
      "cell_type": "code",
      "metadata": {
        "id": "tGk2ekqJyrWI",
        "colab_type": "code",
        "outputId": "dd4d92ac-6a71-4cea-cf9d-0d305509b54d",
        "colab": {
          "base_uri": "https://localhost:8080/",
          "height": 35
        }
      },
      "source": [
        "\n",
        "     \n",
        "def multiply(a):\n",
        " sum=0\n",
        " for i in range(len(a)):\n",
        "   if(a[i]%3==0 and a[i]%5==0):\n",
        "     sum=sum+a[i]\n",
        " print(sum)\n",
        "a=[15,12,2,9,18,36,45]\n",
        "multiply(a)     \n"
      ],
      "execution_count": 0,
      "outputs": [
        {
          "output_type": "stream",
          "text": [
            "60\n"
          ],
          "name": "stdout"
        }
      ]
    },
    {
      "cell_type": "markdown",
      "metadata": {
        "id": "EM36zKUp4PYH",
        "colab_type": "text"
      },
      "source": [
        "# Linear search examples \n",
        " \n",
        " # example 4 :\n",
        " \n",
        " input : list\n",
        " \n",
        " output: formatted output\n",
        " \n",
        " \n",
        " test cases : \n",
        " [1,2,3,4,5] --------1 3 8 15 5"
      ]
    },
    {
      "cell_type": "code",
      "metadata": {
        "id": "xrvRVFfb4q6V",
        "colab_type": "code",
        "outputId": "346baa53-e147-40f1-c8c1-5c4b7c81dd8f",
        "colab": {
          "base_uri": "https://localhost:8080/",
          "height": 35
        }
      },
      "source": [
        "\n",
        "def linearformattedoutput(a):\n",
        " for i in range(len(a)):\n",
        "   if i==0 or i==(len(a)-1):\n",
        "     print(a[i],end = \" \")\n",
        "   else:\n",
        "     print(a[i-1]*a[i+1], end = \" \")\n",
        "a=[1,2,3,4,5]\n",
        "linearformattedoutput(a)\n",
        "\n",
        "  \n",
        "  \n",
        "  \n",
        "  \n"
      ],
      "execution_count": 0,
      "outputs": [
        {
          "output_type": "stream",
          "text": [
            "1 3 8 15 5 "
          ],
          "name": "stdout"
        }
      ]
    },
    {
      "cell_type": "markdown",
      "metadata": {
        "id": "VH9lGSEJ7OQv",
        "colab_type": "text"
      },
      "source": [
        "#### linear search example 5 \n",
        "###example 5 \n",
        "\n",
        "input: list\n",
        "\n",
        "output: formatted output\n",
        "test cases: \n",
        "[1,6,9,16,19,22] ------ 1 9 19 22\n",
        "\n",
        "*first and last items to be printed as it is *for the middle terms need to check both sides of the numbers is even or not . if it is even then print that  item otherwise skip that item\n",
        "\n"
      ]
    },
    {
      "cell_type": "code",
      "metadata": {
        "id": "bZ1L6W-H8T43",
        "colab_type": "code",
        "outputId": "0c58ab74-cc07-4eba-d80a-f7a755c50689",
        "colab": {
          "base_uri": "https://localhost:8080/",
          "height": 35
        }
      },
      "source": [
        "def linearformattedoutput(a):\n",
        " for i in range(len(a)):\n",
        "   if i==0 or i==(len(a)-1):\n",
        "     print(a[i],end = \" \")\n",
        "   elif(a[i-1]%2==0 and a[i+1]%2==0):\n",
        "     print(a[i], end = \" \")\n",
        "a=[1,6,9,4,16,19,22]\n",
        "linearformattedoutput(a)"
      ],
      "execution_count": 0,
      "outputs": [
        {
          "output_type": "stream",
          "text": [
            "1 9 19 22 "
          ],
          "name": "stdout"
        }
      ]
    },
    {
      "cell_type": "markdown",
      "metadata": {
        "id": "B9NoSv6VGfuq",
        "colab_type": "text"
      },
      "source": [
        "###Linear Search Examples\n",
        "\n",
        "####Example 6:\n",
        "\n",
        "Input: A Number\n",
        "\n",
        "Output:List\n",
        "\n",
        "Test Cases:\n",
        "\n",
        "14569 -- [1,4,5,6,9]\n",
        "\n",
        "1974 -- [1,9,7,4]\n"
      ]
    },
    {
      "cell_type": "code",
      "metadata": {
        "id": "pThLsDJTGmsm",
        "colab_type": "code",
        "colab": {}
      },
      "source": [
        "def numbertolist(n):\n",
        " lst = []\n",
        " while n !=0:\n",
        "   r=n%10\n",
        "   lst.append(r)\n",
        "   n=n//10\n",
        "   lst.reverse()\n",
        "   print(lst) \n",
        "n=int(input('Enter a number'))\n",
        "numbertolist(n)\n"
      ],
      "execution_count": 0,
      "outputs": []
    },
    {
      "cell_type": "markdown",
      "metadata": {
        "id": "HAeRiWfrGmrr",
        "colab_type": "text"
      },
      "source": [
        "### List to Number conversion\n",
        " \n",
        " \n",
        " \n",
        "\n",
        "1.   [1,4,5,6,9] --- 14569\n",
        "2.   [1,4,5,6,9] ---  46(you have to consider only even in the list )\n",
        "3.   14569      ---  [4,6 ]   (you have to consider only even  digits to the list )\n",
        "4.    [1,2,3,4,5] --- [1,4,3,16,5]\n",
        "5.    [15,19,12,16,4] --- [15,34,31,28,4]\n"
      ]
    },
    {
      "cell_type": "code",
      "metadata": {
        "id": "v4-OxQwrKVo9",
        "colab_type": "code",
        "outputId": "5d2e4ea6-fb3b-4fc2-9f69-b0f95a98d9dd",
        "colab": {
          "base_uri": "https://localhost:8080/",
          "height": 139
        }
      },
      "source": [
        "i=0\n",
        "def linearformattedoutput(a):\n",
        "  sum=0\n",
        "  for i in range(n):\n",
        "      sum=sum*10+a[i]\n",
        "  print(sum)\n",
        "  return\n",
        "n=int(input('enter size'))\n",
        "a=[int(input())for i in range(n)]\n",
        "linearformattedoutput(a)\n"
      ],
      "execution_count": 0,
      "outputs": [
        {
          "output_type": "stream",
          "text": [
            "enter size5\n",
            "1\n",
            "4\n",
            "5\n",
            "6\n",
            "9\n",
            "14569\n"
          ],
          "name": "stdout"
        }
      ]
    },
    {
      "cell_type": "code",
      "metadata": {
        "id": "p3adhQIhT5Gl",
        "colab_type": "code",
        "outputId": "be0bc62f-9341-4e44-8135-a7466c0498f3",
        "colab": {
          "base_uri": "https://localhost:8080/",
          "height": 52
        }
      },
      "source": [
        "def linearformattedoutput(an):\n",
        "   a=[]\n",
        "   while(an!=0):\n",
        "       if(an%10%2==0):\n",
        "           a.append(an%10)\n",
        "       an=an//10\n",
        "   a.reverse()\n",
        "   print (a)\n",
        "an=int(input())\n",
        "linearformattedoutput(an)\n"
      ],
      "execution_count": 0,
      "outputs": [
        {
          "output_type": "stream",
          "text": [
            "14569\n",
            "[4, 6]\n"
          ],
          "name": "stdout"
        }
      ]
    },
    {
      "cell_type": "code",
      "metadata": {
        "id": "MzBA0wD1T5Fp",
        "colab_type": "code",
        "outputId": "6c7ef783-5725-40cc-b8f8-71a2893dfbc5",
        "colab": {
          "base_uri": "https://localhost:8080/",
          "height": 139
        }
      },
      "source": [
        "def linearformattedoutput(a):\n",
        "   sum=0\n",
        "   for i in range(n):\n",
        "       if(a[i]%2==0):\n",
        "           sum=sum*10+a[i]\n",
        "   print(sum)\n",
        "   return\n",
        "n=int(input('enter size'))\n",
        "a=[int(input())for i in range(n)]\n",
        "linearformattedoutput(a)\n"
      ],
      "execution_count": 0,
      "outputs": [
        {
          "output_type": "stream",
          "text": [
            "enter size5\n",
            "1\n",
            "4\n",
            "5\n",
            "6\n",
            "9\n",
            "46\n"
          ],
          "name": "stdout"
        }
      ]
    },
    {
      "cell_type": "code",
      "metadata": {
        "id": "X07lq7AKVFtg",
        "colab_type": "code",
        "outputId": "17d227ea-59f9-4e77-baf2-50a00166199d",
        "colab": {
          "base_uri": "https://localhost:8080/",
          "height": 139
        }
      },
      "source": [
        "def linearformattedoutput(a):\n",
        "  sqr=0\n",
        "  for i in range (n):\n",
        "    if (a[i]%2==0):\n",
        "      sqr=a[i]**2\n",
        "    \n",
        "  print(sqr,end=\" \")\n",
        "  return\n",
        "n= int(input(\"enter size\"))\n",
        "a=[int(input())for i in range(n)]\n",
        "linearformattedoutput(a)"
      ],
      "execution_count": 0,
      "outputs": [
        {
          "output_type": "stream",
          "text": [
            "enter size5\n",
            "1\n",
            "2\n",
            "3\n",
            "4\n",
            "5\n",
            "20 "
          ],
          "name": "stdout"
        }
      ]
    }
  ]
}