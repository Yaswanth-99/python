{
  "nbformat": 4,
  "nbformat_minor": 0,
  "metadata": {
    "colab": {
      "name": "24-02-2020.ipynb",
      "provenance": [],
      "authorship_tag": "ABX9TyPPKQwxAitmH2+XztYLWHdI",
      "include_colab_link": true
    },
    "kernelspec": {
      "name": "python3",
      "display_name": "Python 3"
    }
  },
  "cells": [
    {
      "cell_type": "markdown",
      "metadata": {
        "id": "view-in-github",
        "colab_type": "text"
      },
      "source": [
        "<a href=\"https://colab.research.google.com/github/Yaswanth-99/python/blob/master/24_02_2020.ipynb\" target=\"_parent\"><img src=\"https://colab.research.google.com/assets/colab-badge.svg\" alt=\"Open In Colab\"/></a>"
      ]
    },
    {
      "cell_type": "markdown",
      "metadata": {
        "id": "g2qEEEHChti-",
        "colab_type": "text"
      },
      "source": [
        "#looping statments"
      ]
    },
    {
      "cell_type": "code",
      "metadata": {
        "id": "4U4r_VOMhv0O",
        "colab_type": "code",
        "outputId": "ce234a84-199a-421a-9a91-87d2724a0364",
        "colab": {
          "base_uri": "https://localhost:8080/",
          "height": 51
        }
      },
      "source": [
        "n = int(input(\"enter a number\"))\n",
        "i=1;\n",
        "while i<=n :\n",
        " print(i,end=\" ,\")\n",
        " i=i+1;"
      ],
      "execution_count": 0,
      "outputs": [
        {
          "output_type": "stream",
          "text": [
            "enter a number10\n",
            "1 ,2 ,3 ,4 ,5 ,6 ,7 ,8 ,9 ,10 ,"
          ],
          "name": "stdout"
        }
      ]
    },
    {
      "cell_type": "code",
      "metadata": {
        "id": "zhFNNY2zi4xO",
        "colab_type": "code",
        "outputId": "0bc2875f-d93d-4aad-f800-2c6f619913e8",
        "colab": {
          "base_uri": "https://localhost:8080/",
          "height": 34
        }
      },
      "source": [
        "n=0\n",
        "p=10;\n",
        "sum=0;\n",
        "\n",
        "while(n<=p) :\n",
        "  if(n%2==0): \n",
        "    sum = sum+n\n",
        "    \n",
        "  n=n+1\n",
        "print(\"sum is \",sum)\n",
        "      \n"
      ],
      "execution_count": 0,
      "outputs": [
        {
          "output_type": "stream",
          "text": [
            "sum is  30\n"
          ],
          "name": "stdout"
        }
      ]
    },
    {
      "cell_type": "code",
      "metadata": {
        "id": "0rMXfSlGlRCy",
        "colab_type": "code",
        "outputId": "68c73558-0db2-4107-a11d-2cf56e198343",
        "colab": {
          "base_uri": "https://localhost:8080/",
          "height": 51
        }
      },
      "source": [
        "n=int(input(\"enter a number\"))\n",
        "i=n;\n",
        "while(i>0) :\n",
        " k=i%10;\n",
        " print(k,end=\" \")\n",
        " i=i//10"
      ],
      "execution_count": 0,
      "outputs": [
        {
          "output_type": "stream",
          "text": [
            "enter a number123\n",
            "3 2 1 "
          ],
          "name": "stdout"
        }
      ]
    },
    {
      "cell_type": "code",
      "metadata": {
        "id": "r1wXNmPIoBay",
        "colab_type": "code",
        "outputId": "917baec7-e0f1-466e-83a3-b21ab852d1cc",
        "colab": {
          "base_uri": "https://localhost:8080/",
          "height": 51
        }
      },
      "source": [
        "n=int(input(\"enter a number\"))\n",
        "i=n;\n",
        "p=0;\n",
        "while(i>0) :\n",
        " k=i%10;\n",
        " i=i//10\n",
        " if(p<k) :\n",
        "   p=k\n",
        "print(p)"
      ],
      "execution_count": 0,
      "outputs": [
        {
          "output_type": "stream",
          "text": [
            "enter a number6198\n",
            "9\n"
          ],
          "name": "stdout"
        }
      ]
    }
  ]
}