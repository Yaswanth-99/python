{
  "nbformat": 4,
  "nbformat_minor": 0,
  "metadata": {
    "colab": {
      "name": "25-06-19.ipynb",
      "version": "0.3.2",
      "provenance": [],
      "collapsed_sections": [],
      "include_colab_link": true
    },
    "kernelspec": {
      "name": "python3",
      "display_name": "Python 3"
    }
  },
  "cells": [
    {
      "cell_type": "markdown",
      "metadata": {
        "id": "view-in-github",
        "colab_type": "text"
      },
      "source": [
        "<a href=\"https://colab.research.google.com/github/Yaswanth-99/python/blob/master/25_06_19.ipynb\" target=\"_parent\"><img src=\"https://colab.research.google.com/assets/colab-badge.svg\" alt=\"Open In Colab\"/></a>"
      ]
    },
    {
      "cell_type": "markdown",
      "metadata": {
        "id": "osJRUDp22QwR",
        "colab_type": "text"
      },
      "source": [
        "##BINARY SEARCH ALGORITHM\n",
        "\n",
        "** Binary search can only be applied on sorted list\n",
        "\n",
        "** Binary search can only be applied on unique list "
      ]
    },
    {
      "cell_type": "code",
      "metadata": {
        "id": "OpsoW2oS2umb",
        "colab_type": "code",
        "outputId": "7299f748-2dbe-4c9c-fde7-9caf45303f90",
        "colab": {
          "base_uri": "https://localhost:8080/",
          "height": 34
        }
      },
      "source": [
        "def binarysearch(a,lindex,rindex,taritem):\n",
        " while lindex <= rindex:\n",
        "   mindex=lindex+(rindex-lindex)//2\n",
        "   if a[mindex]==taritem:\n",
        "     return mindex\n",
        "   if a[mindex]>taritem:\n",
        "     rindex=mindex-1\n",
        "   else:\n",
        "     lindex=mindex+1\n",
        " return -1\n",
        "list1=[1,4,9,15,25,45,57,88,98]\n",
        "res=binarysearch(list1,0,8,45)\n",
        "if res!=-1:\n",
        " print('Item is found')\n",
        "else:\n",
        " print('Item is not found')\n"
      ],
      "execution_count": 0,
      "outputs": [
        {
          "output_type": "stream",
          "text": [
            "Item is found\n"
          ],
          "name": "stdout"
        }
      ]
    },
    {
      "cell_type": "code",
      "metadata": {
        "id": "c--B2M8e_tiD",
        "colab_type": "code",
        "outputId": "794f8ed7-8af8-467a-aa80-7cdd500358e4",
        "colab": {
          "base_uri": "https://localhost:8080/",
          "height": 34
        }
      },
      "source": [
        "def bubblesort(a):\n",
        "    for i in range(len(a)-1):\n",
        "        for j in range(len(a)-1):\n",
        "            if a[j] > a[j+1]:\n",
        "                a[j],a[j+1] = a[j+1],a[j]\n",
        "                \n",
        "    for i in range(len(a)):\n",
        "        print(a[i],end=\" \")\n",
        "        \n",
        "list1 = [19,1,25,6,18,3]\n",
        "bubblesort(list1)"
      ],
      "execution_count": 0,
      "outputs": [
        {
          "output_type": "stream",
          "text": [
            "1 3 6 18 19 25 "
          ],
          "name": "stdout"
        }
      ]
    },
    {
      "cell_type": "markdown",
      "metadata": {
        "id": "0s1nBdsnC23m",
        "colab_type": "text"
      },
      "source": [
        "### Strings in Python\n",
        " \n",
        " A string is a sequence of characters\n",
        " \n",
        " The conversion of character to a number is happens with ASCII number \n",
        " \n",
        " ASCII Numbers \n",
        " \n",
        " A-Z ------------65-90\n",
        "  \n",
        "  a-z-------------97-122\n",
        "  \n",
        "  0-9----------"
      ]
    },
    {
      "cell_type": "code",
      "metadata": {
        "id": "gYb5CeheDSuk",
        "colab_type": "code",
        "outputId": "ce58eb83-7e1d-4a2f-b9bc-e89473011cfb",
        "colab": {
          "base_uri": "https://localhost:8080/",
          "height": 151
        }
      },
      "source": [
        "#creating a string \n",
        "str = \"application\"\n",
        "print(str)\n",
        "\n",
        "str1 = \"application\"\n",
        "print(str1)\n",
        "\n",
        "str2 = \"\"\" application list\n",
        "         working\n",
        "         completed\n",
        "         list\n",
        "         strings \n",
        "         python \"\"\"\n",
        "print(str2)"
      ],
      "execution_count": 0,
      "outputs": [
        {
          "output_type": "stream",
          "text": [
            "application\n",
            "application\n",
            " application list\n",
            "         working\n",
            "         completed\n",
            "         list\n",
            "         strings \n",
            "         python \n"
          ],
          "name": "stdout"
        }
      ]
    },
    {
      "cell_type": "code",
      "metadata": {
        "id": "6UlySADyGKji",
        "colab_type": "code",
        "outputId": "c34e3796-9c2d-42b8-d021-33fe9222c624",
        "colab": {
          "base_uri": "https://localhost:8080/",
          "height": 168
        }
      },
      "source": [
        " str = \"application\"\n",
        "print(str)\n",
        "print(\"str[0] = \",str[0])\n",
        "print(\"str[1] = \",str[1])\n",
        "print(\"str[-1] = \", str[-1])\n",
        "print(\"str[-3] = \",str[-3])\n",
        "print(\"str[1:5] = \",str[1:5])\n",
        "print(\"str[:5] = \",str[:5])\n",
        "print(\"str[5:-2] = \",str[5:-2])\n",
        "print(\"str[::-1] = \",str[::-1])"
      ],
      "execution_count": 0,
      "outputs": [
        {
          "output_type": "stream",
          "text": [
            "application\n",
            "str[0] =  a\n",
            "str[1] =  p\n",
            "str[-1] =  n\n",
            "str[-3] =  i\n",
            "str[1:5] =  ppli\n",
            "str[:5] =  appli\n",
            "str[5:-2] =  cati\n",
            "str[::-1] =  noitacilppa\n"
          ],
          "name": "stdout"
        }
      ]
    },
    {
      "cell_type": "markdown",
      "metadata": {
        "id": "tFY3eR-RaPjr",
        "colab_type": "text"
      },
      "source": [
        "##palindrome of strings\n",
        "\n"
      ]
    },
    {
      "cell_type": "code",
      "metadata": {
        "id": "DCS5frrnaVJL",
        "colab_type": "code",
        "outputId": "ed1a3c41-4310-4a90-bf6c-ce1f2ee50b95",
        "colab": {
          "base_uri": "https://localhost:8080/",
          "height": 50
        }
      },
      "source": [
        "\n",
        "def isPalindrome(s):\n",
        " if s==s[::-1]:\n",
        "   return True\n",
        " else:\n",
        "   return False\n",
        " \n",
        "print(isPalindrome(\"python\"))\n",
        "print(isPalindrome(\"jalaj\"))"
      ],
      "execution_count": 0,
      "outputs": [
        {
          "output_type": "stream",
          "text": [
            "False\n",
            "True\n"
          ],
          "name": "stdout"
        }
      ]
    },
    {
      "cell_type": "code",
      "metadata": {
        "id": "rTAHJ8uOa2y5",
        "colab_type": "code",
        "outputId": "91a86429-1090-4f66-b302-30bd97d6807a",
        "colab": {
          "base_uri": "https://localhost:8080/",
          "height": 50
        }
      },
      "source": [
        "#count the digits of a number\n",
        "n=int(input(\"Enter a number\"));\n",
        "cnt=0;\n",
        "while n!=0:\n",
        " cnt=cnt+1;\n",
        " n=n//10;\n",
        " \n",
        "print(cnt)"
      ],
      "execution_count": 0,
      "outputs": [
        {
          "output_type": "stream",
          "text": [
            "Enter a number1456\n",
            "4\n"
          ],
          "name": "stdout"
        }
      ]
    },
    {
      "cell_type": "code",
      "metadata": {
        "id": "fMUCofw0a2vz",
        "colab_type": "code",
        "outputId": "32aa0735-ca5d-4bad-bbbd-243da0f51d15",
        "colab": {
          "base_uri": "https://localhost:8080/",
          "height": 34
        }
      },
      "source": [
        "def countofchars(str):\n",
        "  return len(str)\n",
        "countofchars(\"application\")"
      ],
      "execution_count": 0,
      "outputs": [
        {
          "output_type": "execute_result",
          "data": {
            "text/plain": [
              "11"
            ]
          },
          "metadata": {
            "tags": []
          },
          "execution_count": 16
        }
      ]
    },
    {
      "cell_type": "markdown",
      "metadata": {
        "id": "MHhXkwZybY2s",
        "colab_type": "text"
      },
      "source": [
        "## string examples"
      ]
    },
    {
      "cell_type": "code",
      "metadata": {
        "id": "iQIoPT8vbdKa",
        "colab_type": "code",
        "outputId": "f3781f5b-dbb1-4282-ec51-ba1d31cc067a",
        "colab": {
          "base_uri": "https://localhost:8080/",
          "height": 50
        }
      },
      "source": [
        "def countuppercase(str):\n",
        " cnt = 0\n",
        " lst = list(str)\n",
        " for x in range(len(lst)):\n",
        "   if ord(lst[x]) >= 65 and ord(lst[x]) <= 90:\n",
        "     cnt = cnt + 1\n",
        " return cnt\n",
        "print(countuppercase(\"AppLication\"))\n",
        "print(countuppercase(\"TeST\"))\n"
      ],
      "execution_count": 0,
      "outputs": [
        {
          "output_type": "stream",
          "text": [
            "2\n",
            "3\n"
          ],
          "name": "stdout"
        }
      ]
    },
    {
      "cell_type": "code",
      "metadata": {
        "id": "p8diqgD1bdGZ",
        "colab_type": "code",
        "outputId": "a429721e-63cc-42b8-cf4f-7d973b48849e",
        "colab": {
          "base_uri": "https://localhost:8080/",
          "height": 67
        }
      },
      "source": [
        "def printdigits(str):\n",
        "   lst = list(str)\n",
        "   for x in range(len(lst)):\n",
        "       if ord(lst[x]) >= 48 and ord(lst[x]) <= 57: \n",
        "           print(lst[x],end=\"\")\n",
        "   return\n",
        "printdigits(\"Application1889\")\n",
        "print('\\n')\n",
        "printdigits(\"Te1520st\")\n",
        "  \n",
        "  \n",
        "  \n",
        "  "
      ],
      "execution_count": 0,
      "outputs": [
        {
          "output_type": "stream",
          "text": [
            "1889\n",
            "\n",
            "1520"
          ],
          "name": "stdout"
        }
      ]
    },
    {
      "cell_type": "code",
      "metadata": {
        "id": "gL3AfM2-iO_g",
        "colab_type": "code",
        "outputId": "fb66d36b-28aa-4dc9-9ccc-21e1d622b60e",
        "colab": {
          "base_uri": "https://localhost:8080/",
          "height": 34
        }
      },
      "source": [
        "def sumOfDigits(str):\n",
        "   sum = 0\n",
        "   lst = list(str)\n",
        "   for x in range(len(lst)):\n",
        "        if ord(lst[x]) >= 48 and ord(lst[x]) <= 57:\n",
        "           sum = sum + ord(lst[x]) - 48;\n",
        "      \n",
        "      \n",
        "   return sum\n",
        "sumOfDigits(\"Application1889\")"
      ],
      "execution_count": 0,
      "outputs": [
        {
          "output_type": "execute_result",
          "data": {
            "text/plain": [
              "26"
            ]
          },
          "metadata": {
            "tags": []
          },
          "execution_count": 33
        }
      ]
    },
    {
      "cell_type": "code",
      "metadata": {
        "id": "B_pHhmVw6nEB",
        "colab_type": "code",
        "outputId": "ad6983f8-da53-4487-9112-74391a9811fa",
        "colab": {
          "base_uri": "https://localhost:8080/",
          "height": 34
        }
      },
      "source": [
        "def sumOfDigits(str):\n",
        "   sum = 0\n",
        "   lst = list(str)\n",
        "   for x in range(len(lst)):\n",
        "        if ord(lst[x]) >= 48 and ord(lst[x]) <= 57 and ord(lst[x])%2 == 0:\n",
        "           sum = sum + ord(lst[x]) - 48;\n",
        "      \n",
        "      \n",
        "   return sum\n",
        "sumOfDigits(\"Application1889\")"
      ],
      "execution_count": 0,
      "outputs": [
        {
          "output_type": "execute_result",
          "data": {
            "text/plain": [
              "16"
            ]
          },
          "metadata": {
            "tags": []
          },
          "execution_count": 37
        }
      ]
    },
    {
      "cell_type": "code",
      "metadata": {
        "id": "z8Xg5Gxz5V2S",
        "colab_type": "code",
        "colab": {}
      },
      "source": [
        ""
      ],
      "execution_count": 0,
      "outputs": []
    }
  ]
}