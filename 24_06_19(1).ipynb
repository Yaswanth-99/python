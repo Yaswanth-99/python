{
  "nbformat": 4,
  "nbformat_minor": 0,
  "metadata": {
    "colab": {
      "name": "24-06-19(1).ipynb",
      "version": "0.3.2",
      "provenance": [],
      "collapsed_sections": [],
      "include_colab_link": true
    },
    "kernelspec": {
      "name": "python3",
      "display_name": "Python 3"
    }
  },
  "cells": [
    {
      "cell_type": "markdown",
      "metadata": {
        "id": "view-in-github",
        "colab_type": "text"
      },
      "source": [
        "<a href=\"https://colab.research.google.com/github/Yaswanth-99/python/blob/master/24_06_19(1).ipynb\" target=\"_parent\"><img src=\"https://colab.research.google.com/assets/colab-badge.svg\" alt=\"Open In Colab\"/></a>"
      ]
    },
    {
      "cell_type": "markdown",
      "metadata": {
        "id": "q_VIT4RSp_D0",
        "colab_type": "text"
      },
      "source": [
        "#print sum of n even numbers"
      ]
    },
    {
      "cell_type": "code",
      "metadata": {
        "id": "ZD8cQql9sPpK",
        "colab_type": "code",
        "colab": {}
      },
      "source": [
        ""
      ],
      "execution_count": 0,
      "outputs": []
    },
    {
      "cell_type": "code",
      "metadata": {
        "id": "3PkiWtmrsPrI",
        "colab_type": "code",
        "outputId": "8bb4c4e1-5a3e-43e9-db40-4e2c2b024801",
        "colab": {
          "base_uri": "https://localhost:8080/",
          "height": 35
        }
      },
      "source": [
        "def printEven(n):\n",
        "  cnt=0;\n",
        "  sum=0;\n",
        "  while(cnt!=n):\n",
        "    if(cnt%2==0):\n",
        "      sum=sum+cnt;\n",
        "    cnt=cnt+1;\n",
        "  return sum\n",
        "print(printEven(20))"
      ],
      "execution_count": 0,
      "outputs": [
        {
          "output_type": "stream",
          "text": [
            "90\n"
          ],
          "name": "stdout"
        }
      ]
    },
    {
      "cell_type": "markdown",
      "metadata": {
        "id": "7zXs99cet1Ol",
        "colab_type": "text"
      },
      "source": [
        "#example function"
      ]
    },
    {
      "cell_type": "code",
      "metadata": {
        "id": "9peoHNHyt5nw",
        "colab_type": "code",
        "outputId": "7bfc9ec4-c08f-4778-f47d-e088bdd1be47",
        "colab": {
          "base_uri": "https://localhost:8080/",
          "height": 35
        }
      },
      "source": [
        "def factorsList(n):\n",
        "  i=1;\n",
        "  while(i!=n):\n",
        "    if(n%i==0):\n",
        "      print(i,end=\" \");\n",
        "    i=i+1;\n",
        "  return ;\n",
        "factorsList(12)"
      ],
      "execution_count": 0,
      "outputs": [
        {
          "output_type": "stream",
          "text": [
            "1 2 3 4 6 "
          ],
          "name": "stdout"
        }
      ]
    },
    {
      "cell_type": "markdown",
      "metadata": {
        "id": "WqG__y6kt5l2",
        "colab_type": "text"
      },
      "source": [
        "# LISTS\n",
        "\n"
      ]
    },
    {
      "cell_type": "code",
      "metadata": {
        "id": "oGmzJiffwdCB",
        "colab_type": "code",
        "outputId": "d9bfa922-80eb-43e4-d487-3aca420734dd",
        "colab": {
          "base_uri": "https://localhost:8080/",
          "height": 52
        }
      },
      "source": [
        "list1=[1,2,3,4,5,6];\n",
        "#entire list\n",
        "print(list1);\n",
        "#list[0]\n",
        "print(list1[0])\n"
      ],
      "execution_count": 0,
      "outputs": [
        {
          "output_type": "stream",
          "text": [
            "[1, 2, 3, 4, 5, 6]\n",
            "1\n"
          ],
          "name": "stdout"
        }
      ]
    },
    {
      "cell_type": "markdown",
      "metadata": {
        "id": "WgdmYJRMxfiP",
        "colab_type": "text"
      },
      "source": [
        "# for loop\n",
        "##syntax:\n",
        "                           for<variable name> in <seq>:\n",
        "                                               <statements>"
      ]
    },
    {
      "cell_type": "code",
      "metadata": {
        "id": "iwKWiVXlx7u3",
        "colab_type": "code",
        "outputId": "7c75cac5-44ed-4158-9bda-59794e7a9340",
        "colab": {
          "base_uri": "https://localhost:8080/",
          "height": 35
        }
      },
      "source": [
        "list2=[\"hello\",\"hii\"]\n",
        "for x in list2:\n",
        "     print(x,end=\" \")"
      ],
      "execution_count": 0,
      "outputs": [
        {
          "output_type": "stream",
          "text": [
            "hello hii "
          ],
          "name": "stdout"
        }
      ]
    },
    {
      "cell_type": "markdown",
      "metadata": {
        "id": "Ow7wBPsuzCgU",
        "colab_type": "text"
      },
      "source": [
        "# List example with particular index\n"
      ]
    },
    {
      "cell_type": "code",
      "metadata": {
        "id": "N-Uj-IvJzfU7",
        "colab_type": "code",
        "outputId": "144b2a06-4f3d-405d-e166-83ec992d01f9",
        "colab": {
          "base_uri": "https://localhost:8080/",
          "height": 87
        }
      },
      "source": [
        "list1=[1,2,3,4,5,6,7]\n",
        "for x in list1:\n",
        "  print(x,end=\"  \")\n",
        "  \n",
        "print();\n",
        "print(list1[4]);\n",
        "print(list1[3:7]);\n",
        "print(list1[:7])"
      ],
      "execution_count": 0,
      "outputs": [
        {
          "output_type": "stream",
          "text": [
            "1  2  3  4  5  6  7  \n",
            "5\n",
            "[4, 5, 6, 7]\n",
            "[1, 2, 3, 4, 5, 6, 7]\n"
          ],
          "name": "stdout"
        }
      ]
    },
    {
      "cell_type": "code",
      "metadata": {
        "id": "PgpFpWelzbzs",
        "colab_type": "code",
        "outputId": "1cae6c72-6884-4d2f-9698-caa60398b566",
        "colab": {
          "base_uri": "https://localhost:8080/",
          "height": 173
        }
      },
      "source": [
        "list1=[1,2,3,4,5,6,7,8,9,10]\n",
        "for x in list1:\n",
        "  print(x,end=\"  \")\n",
        "    \n",
        "print();\n",
        "print(list1[1:-1]);\n",
        "print(list1[2:-2]);\n",
        "print(list1[::2]);\n",
        "print(list1[::3]);\n",
        "print(list1[::4]);\n",
        "print(list1[::-2]);\n",
        "print(list1[-1]);\n",
        "print(list1[-10])"
      ],
      "execution_count": 0,
      "outputs": [
        {
          "output_type": "stream",
          "text": [
            "1  2  3  4  5  6  7  8  9  10  \n",
            "[2, 3, 4, 5, 6, 7, 8, 9]\n",
            "[3, 4, 5, 6, 7, 8]\n",
            "[1, 3, 5, 7, 9]\n",
            "[1, 4, 7, 10]\n",
            "[1, 5, 9]\n",
            "[10, 8, 6, 4, 2]\n",
            "10\n",
            "1\n"
          ],
          "name": "stdout"
        }
      ]
    },
    {
      "cell_type": "code",
      "metadata": {
        "id": "awPzWavK5Ilx",
        "colab_type": "code",
        "outputId": "ce3e2428-69c4-491d-907c-cb2a078da1dc",
        "colab": {
          "base_uri": "https://localhost:8080/",
          "height": 121
        }
      },
      "source": [
        "list1 = [\"anil\",\"adarsh\",\"akhil\",1];\n",
        "print(list1);\n",
        "list1[2]=15;#update the list item\n",
        "print(list1);\n",
        "del list1[3];#delete the list item\n",
        "print(list1);\n",
        "list1[1]=\"gitam\";\n",
        "print(list1);\n",
        "list2=[1,2,3];\n",
        "print(list2);\n",
        "print(list1+list2);# concatenation of both the lists"
      ],
      "execution_count": 0,
      "outputs": [
        {
          "output_type": "stream",
          "text": [
            "['anil', 'adarsh', 'akhil', 1]\n",
            "['anil', 'adarsh', 15, 1]\n",
            "['anil', 'adarsh', 15]\n",
            "['anil', 'gitam', 15]\n",
            "[1, 2, 3]\n",
            "['anil', 'gitam', 15, 1, 2, 3]\n"
          ],
          "name": "stdout"
        }
      ]
    },
    {
      "cell_type": "code",
      "metadata": {
        "id": "ex2aXQGt9gn7",
        "colab_type": "code",
        "colab": {}
      },
      "source": [
        ""
      ],
      "execution_count": 0,
      "outputs": []
    },
    {
      "cell_type": "code",
      "metadata": {
        "id": "Kcpa-8F49grA",
        "colab_type": "code",
        "outputId": "ef9fbf19-0768-41a0-b7f5-d8123d5f1ac2",
        "colab": {
          "base_uri": "https://localhost:8080/",
          "height": 121
        }
      },
      "source": [
        "list1 = [1,2,3,4,5]\n",
        "print(list1);\n",
        "del list1[2];\n",
        "#list1[4]=15\n",
        "print(list1);\n",
        "print(len(list1));#used to find the length of the list\n",
        "list1.append(15);\n",
        "list1.append(150);\n",
        "list1.append(1);\n",
        "list1.append(3);\n",
        "print(list1);\n",
        "print(list1.count(1))\n",
        "print(list1.count(150));"
      ],
      "execution_count": 0,
      "outputs": [
        {
          "output_type": "stream",
          "text": [
            "[1, 2, 3, 4, 5]\n",
            "[1, 2, 4, 5]\n",
            "4\n",
            "[1, 2, 4, 5, 15, 150, 1, 3]\n",
            "2\n",
            "1\n"
          ],
          "name": "stdout"
        }
      ]
    },
    {
      "cell_type": "code",
      "metadata": {
        "id": "g2RXtygU5Ayx",
        "colab_type": "code",
        "colab": {}
      },
      "source": [
        ""
      ],
      "execution_count": 0,
      "outputs": []
    },
    {
      "cell_type": "markdown",
      "metadata": {
        "id": "dU5-1VRbI-3h",
        "colab_type": "text"
      },
      "source": [
        "# List methods\n",
        "##index(obj)\n",
        " \n",
        " \n",
        " returns the index of passed object first occurence from the left side"
      ]
    },
    {
      "cell_type": "code",
      "metadata": {
        "id": "Mf1hywmAJkcT",
        "colab_type": "code",
        "outputId": "cbf0f20b-35c2-4606-e622-7bdb19ad1afb",
        "colab": {
          "base_uri": "https://localhost:8080/",
          "height": 104
        }
      },
      "source": [
        "list1=[\":gitam\",\"python\",\"raptor\",1,5,\"python\",\"python\"]\n",
        "print(list1);\n",
        "list1.index(\"python\")#finding the index of object in the list\n",
        "list1.index(1)\n",
        "print(len(list1))\n",
        "list1.insert(2,2019)\n",
        "print(list1)\n",
        "print(len(list1))\n",
        "list1.insert(4,2020)\n",
        "print(list1)"
      ],
      "execution_count": 0,
      "outputs": [
        {
          "output_type": "stream",
          "text": [
            "[':gitam', 'python', 'raptor', 1, 5, 'python', 'python']\n",
            "7\n",
            "[':gitam', 'python', 2019, 'raptor', 1, 5, 'python', 'python']\n",
            "8\n",
            "[':gitam', 'python', 2019, 'raptor', 2020, 1, 5, 'python', 'python']\n"
          ],
          "name": "stdout"
        }
      ]
    },
    {
      "cell_type": "code",
      "metadata": {
        "id": "mkToHcaCOWKy",
        "colab_type": "code",
        "outputId": "60540943-10b3-4d2c-ac1c-27f1afd9cb20",
        "colab": {
          "base_uri": "https://localhost:8080/",
          "height": 87
        }
      },
      "source": [
        "list1=[\":gitam\",\"python\",\"raptor\",1,5,\"python\",\"python\"]\n",
        "print(list1);\n",
        "list1.remove(\"python\")\n",
        "print(list1)\n",
        "list1.remove(\"python\")\n",
        "print(list1)\n",
        "list1.reverse()\n",
        "print(list1)"
      ],
      "execution_count": 0,
      "outputs": [
        {
          "output_type": "stream",
          "text": [
            "[':gitam', 'python', 'raptor', 1, 5, 'python', 'python']\n",
            "[':gitam', 'raptor', 1, 5, 'python', 'python']\n",
            "[':gitam', 'raptor', 1, 5, 'python']\n",
            "['python', 5, 1, 'raptor', ':gitam']\n"
          ],
          "name": "stdout"
        }
      ]
    },
    {
      "cell_type": "markdown",
      "metadata": {
        "id": "T7YId6vKOWGq",
        "colab_type": "text"
      },
      "source": [
        ""
      ]
    }
  ]
}